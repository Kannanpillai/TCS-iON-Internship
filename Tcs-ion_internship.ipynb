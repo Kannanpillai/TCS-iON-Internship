{
 "cells": [
  {
   "cell_type": "code",
   "execution_count": 183,
   "metadata": {},
   "outputs": [],
   "source": [
    "import pandas as pd\n",
    "import numpy as np\n",
    "import matplotlib.pyplot as plt\n",
    "import seaborn as sns"
   ]
  },
  {
   "cell_type": "code",
   "execution_count": 184,
   "metadata": {},
   "outputs": [],
   "source": [
    "data_train = pd.read_csv(r\"F:\\Internship\\1616325054_MobileDataSets\\MobileDataSets\\MobileTrain.csv\")"
   ]
  },
  {
   "cell_type": "code",
   "execution_count": 185,
   "metadata": {},
   "outputs": [],
   "source": [
    "data_test = pd.read_csv(r\"F:\\Internship\\1616325054_MobileDataSets\\MobileDataSets\\MobileTest.csv\")"
   ]
  },
  {
   "cell_type": "code",
   "execution_count": 186,
   "metadata": {},
   "outputs": [
    {
     "data": {
      "text/html": [
       "<div>\n",
       "<style scoped>\n",
       "    .dataframe tbody tr th:only-of-type {\n",
       "        vertical-align: middle;\n",
       "    }\n",
       "\n",
       "    .dataframe tbody tr th {\n",
       "        vertical-align: top;\n",
       "    }\n",
       "\n",
       "    .dataframe thead th {\n",
       "        text-align: right;\n",
       "    }\n",
       "</style>\n",
       "<table border=\"1\" class=\"dataframe\">\n",
       "  <thead>\n",
       "    <tr style=\"text-align: right;\">\n",
       "      <th></th>\n",
       "      <th>battery_power</th>\n",
       "      <th>blue</th>\n",
       "      <th>clock_speed</th>\n",
       "      <th>dual_sim</th>\n",
       "      <th>fc</th>\n",
       "      <th>four_g</th>\n",
       "      <th>int_memory</th>\n",
       "      <th>m_dep</th>\n",
       "      <th>mobile_wt</th>\n",
       "      <th>n_cores</th>\n",
       "      <th>...</th>\n",
       "      <th>px_height</th>\n",
       "      <th>px_width</th>\n",
       "      <th>ram</th>\n",
       "      <th>sc_h</th>\n",
       "      <th>sc_w</th>\n",
       "      <th>talk_time</th>\n",
       "      <th>three_g</th>\n",
       "      <th>touch_screen</th>\n",
       "      <th>wifi</th>\n",
       "      <th>price_range</th>\n",
       "    </tr>\n",
       "  </thead>\n",
       "  <tbody>\n",
       "    <tr>\n",
       "      <th>0</th>\n",
       "      <td>842</td>\n",
       "      <td>0</td>\n",
       "      <td>2.2</td>\n",
       "      <td>0</td>\n",
       "      <td>1</td>\n",
       "      <td>0</td>\n",
       "      <td>7</td>\n",
       "      <td>0.6</td>\n",
       "      <td>188</td>\n",
       "      <td>2</td>\n",
       "      <td>...</td>\n",
       "      <td>20</td>\n",
       "      <td>756</td>\n",
       "      <td>2549</td>\n",
       "      <td>9</td>\n",
       "      <td>7</td>\n",
       "      <td>19</td>\n",
       "      <td>0</td>\n",
       "      <td>0</td>\n",
       "      <td>1</td>\n",
       "      <td>1</td>\n",
       "    </tr>\n",
       "    <tr>\n",
       "      <th>1</th>\n",
       "      <td>1021</td>\n",
       "      <td>1</td>\n",
       "      <td>0.5</td>\n",
       "      <td>1</td>\n",
       "      <td>0</td>\n",
       "      <td>1</td>\n",
       "      <td>53</td>\n",
       "      <td>0.7</td>\n",
       "      <td>136</td>\n",
       "      <td>3</td>\n",
       "      <td>...</td>\n",
       "      <td>905</td>\n",
       "      <td>1988</td>\n",
       "      <td>2631</td>\n",
       "      <td>17</td>\n",
       "      <td>3</td>\n",
       "      <td>7</td>\n",
       "      <td>1</td>\n",
       "      <td>1</td>\n",
       "      <td>0</td>\n",
       "      <td>2</td>\n",
       "    </tr>\n",
       "    <tr>\n",
       "      <th>2</th>\n",
       "      <td>563</td>\n",
       "      <td>1</td>\n",
       "      <td>0.5</td>\n",
       "      <td>1</td>\n",
       "      <td>2</td>\n",
       "      <td>1</td>\n",
       "      <td>41</td>\n",
       "      <td>0.9</td>\n",
       "      <td>145</td>\n",
       "      <td>5</td>\n",
       "      <td>...</td>\n",
       "      <td>1263</td>\n",
       "      <td>1716</td>\n",
       "      <td>2603</td>\n",
       "      <td>11</td>\n",
       "      <td>2</td>\n",
       "      <td>9</td>\n",
       "      <td>1</td>\n",
       "      <td>1</td>\n",
       "      <td>0</td>\n",
       "      <td>2</td>\n",
       "    </tr>\n",
       "    <tr>\n",
       "      <th>3</th>\n",
       "      <td>615</td>\n",
       "      <td>1</td>\n",
       "      <td>2.5</td>\n",
       "      <td>0</td>\n",
       "      <td>0</td>\n",
       "      <td>0</td>\n",
       "      <td>10</td>\n",
       "      <td>0.8</td>\n",
       "      <td>131</td>\n",
       "      <td>6</td>\n",
       "      <td>...</td>\n",
       "      <td>1216</td>\n",
       "      <td>1786</td>\n",
       "      <td>2769</td>\n",
       "      <td>16</td>\n",
       "      <td>8</td>\n",
       "      <td>11</td>\n",
       "      <td>1</td>\n",
       "      <td>0</td>\n",
       "      <td>0</td>\n",
       "      <td>2</td>\n",
       "    </tr>\n",
       "    <tr>\n",
       "      <th>4</th>\n",
       "      <td>1821</td>\n",
       "      <td>1</td>\n",
       "      <td>1.2</td>\n",
       "      <td>0</td>\n",
       "      <td>13</td>\n",
       "      <td>1</td>\n",
       "      <td>44</td>\n",
       "      <td>0.6</td>\n",
       "      <td>141</td>\n",
       "      <td>2</td>\n",
       "      <td>...</td>\n",
       "      <td>1208</td>\n",
       "      <td>1212</td>\n",
       "      <td>1411</td>\n",
       "      <td>8</td>\n",
       "      <td>2</td>\n",
       "      <td>15</td>\n",
       "      <td>1</td>\n",
       "      <td>1</td>\n",
       "      <td>0</td>\n",
       "      <td>1</td>\n",
       "    </tr>\n",
       "  </tbody>\n",
       "</table>\n",
       "<p>5 rows × 21 columns</p>\n",
       "</div>"
      ],
      "text/plain": [
       "   battery_power  blue  clock_speed  dual_sim  fc  four_g  int_memory  m_dep  \\\n",
       "0            842     0          2.2         0   1       0           7    0.6   \n",
       "1           1021     1          0.5         1   0       1          53    0.7   \n",
       "2            563     1          0.5         1   2       1          41    0.9   \n",
       "3            615     1          2.5         0   0       0          10    0.8   \n",
       "4           1821     1          1.2         0  13       1          44    0.6   \n",
       "\n",
       "   mobile_wt  n_cores  ...  px_height  px_width   ram  sc_h  sc_w  talk_time  \\\n",
       "0        188        2  ...         20       756  2549     9     7         19   \n",
       "1        136        3  ...        905      1988  2631    17     3          7   \n",
       "2        145        5  ...       1263      1716  2603    11     2          9   \n",
       "3        131        6  ...       1216      1786  2769    16     8         11   \n",
       "4        141        2  ...       1208      1212  1411     8     2         15   \n",
       "\n",
       "   three_g  touch_screen  wifi  price_range  \n",
       "0        0             0     1            1  \n",
       "1        1             1     0            2  \n",
       "2        1             1     0            2  \n",
       "3        1             0     0            2  \n",
       "4        1             1     0            1  \n",
       "\n",
       "[5 rows x 21 columns]"
      ]
     },
     "execution_count": 186,
     "metadata": {},
     "output_type": "execute_result"
    }
   ],
   "source": [
    "data_train.head()"
   ]
  },
  {
   "cell_type": "code",
   "execution_count": 187,
   "metadata": {},
   "outputs": [
    {
     "data": {
      "text/html": [
       "<div>\n",
       "<style scoped>\n",
       "    .dataframe tbody tr th:only-of-type {\n",
       "        vertical-align: middle;\n",
       "    }\n",
       "\n",
       "    .dataframe tbody tr th {\n",
       "        vertical-align: top;\n",
       "    }\n",
       "\n",
       "    .dataframe thead th {\n",
       "        text-align: right;\n",
       "    }\n",
       "</style>\n",
       "<table border=\"1\" class=\"dataframe\">\n",
       "  <thead>\n",
       "    <tr style=\"text-align: right;\">\n",
       "      <th></th>\n",
       "      <th>id</th>\n",
       "      <th>battery_power</th>\n",
       "      <th>blue</th>\n",
       "      <th>clock_speed</th>\n",
       "      <th>dual_sim</th>\n",
       "      <th>fc</th>\n",
       "      <th>four_g</th>\n",
       "      <th>int_memory</th>\n",
       "      <th>m_dep</th>\n",
       "      <th>mobile_wt</th>\n",
       "      <th>...</th>\n",
       "      <th>pc</th>\n",
       "      <th>px_height</th>\n",
       "      <th>px_width</th>\n",
       "      <th>ram</th>\n",
       "      <th>sc_h</th>\n",
       "      <th>sc_w</th>\n",
       "      <th>talk_time</th>\n",
       "      <th>three_g</th>\n",
       "      <th>touch_screen</th>\n",
       "      <th>wifi</th>\n",
       "    </tr>\n",
       "  </thead>\n",
       "  <tbody>\n",
       "    <tr>\n",
       "      <th>0</th>\n",
       "      <td>1</td>\n",
       "      <td>1043</td>\n",
       "      <td>1</td>\n",
       "      <td>1.8</td>\n",
       "      <td>1</td>\n",
       "      <td>14</td>\n",
       "      <td>0</td>\n",
       "      <td>5</td>\n",
       "      <td>0.1</td>\n",
       "      <td>193</td>\n",
       "      <td>...</td>\n",
       "      <td>16</td>\n",
       "      <td>226</td>\n",
       "      <td>1412</td>\n",
       "      <td>3476</td>\n",
       "      <td>12</td>\n",
       "      <td>7</td>\n",
       "      <td>2</td>\n",
       "      <td>0</td>\n",
       "      <td>1</td>\n",
       "      <td>0</td>\n",
       "    </tr>\n",
       "    <tr>\n",
       "      <th>1</th>\n",
       "      <td>2</td>\n",
       "      <td>841</td>\n",
       "      <td>1</td>\n",
       "      <td>0.5</td>\n",
       "      <td>1</td>\n",
       "      <td>4</td>\n",
       "      <td>1</td>\n",
       "      <td>61</td>\n",
       "      <td>0.8</td>\n",
       "      <td>191</td>\n",
       "      <td>...</td>\n",
       "      <td>12</td>\n",
       "      <td>746</td>\n",
       "      <td>857</td>\n",
       "      <td>3895</td>\n",
       "      <td>6</td>\n",
       "      <td>0</td>\n",
       "      <td>7</td>\n",
       "      <td>1</td>\n",
       "      <td>0</td>\n",
       "      <td>0</td>\n",
       "    </tr>\n",
       "    <tr>\n",
       "      <th>2</th>\n",
       "      <td>3</td>\n",
       "      <td>1807</td>\n",
       "      <td>1</td>\n",
       "      <td>2.8</td>\n",
       "      <td>0</td>\n",
       "      <td>1</td>\n",
       "      <td>0</td>\n",
       "      <td>27</td>\n",
       "      <td>0.9</td>\n",
       "      <td>186</td>\n",
       "      <td>...</td>\n",
       "      <td>4</td>\n",
       "      <td>1270</td>\n",
       "      <td>1366</td>\n",
       "      <td>2396</td>\n",
       "      <td>17</td>\n",
       "      <td>10</td>\n",
       "      <td>10</td>\n",
       "      <td>0</td>\n",
       "      <td>1</td>\n",
       "      <td>1</td>\n",
       "    </tr>\n",
       "    <tr>\n",
       "      <th>3</th>\n",
       "      <td>4</td>\n",
       "      <td>1546</td>\n",
       "      <td>0</td>\n",
       "      <td>0.5</td>\n",
       "      <td>1</td>\n",
       "      <td>18</td>\n",
       "      <td>1</td>\n",
       "      <td>25</td>\n",
       "      <td>0.5</td>\n",
       "      <td>96</td>\n",
       "      <td>...</td>\n",
       "      <td>20</td>\n",
       "      <td>295</td>\n",
       "      <td>1752</td>\n",
       "      <td>3893</td>\n",
       "      <td>10</td>\n",
       "      <td>0</td>\n",
       "      <td>7</td>\n",
       "      <td>1</td>\n",
       "      <td>1</td>\n",
       "      <td>0</td>\n",
       "    </tr>\n",
       "    <tr>\n",
       "      <th>4</th>\n",
       "      <td>5</td>\n",
       "      <td>1434</td>\n",
       "      <td>0</td>\n",
       "      <td>1.4</td>\n",
       "      <td>0</td>\n",
       "      <td>11</td>\n",
       "      <td>1</td>\n",
       "      <td>49</td>\n",
       "      <td>0.5</td>\n",
       "      <td>108</td>\n",
       "      <td>...</td>\n",
       "      <td>18</td>\n",
       "      <td>749</td>\n",
       "      <td>810</td>\n",
       "      <td>1773</td>\n",
       "      <td>15</td>\n",
       "      <td>8</td>\n",
       "      <td>7</td>\n",
       "      <td>1</td>\n",
       "      <td>0</td>\n",
       "      <td>1</td>\n",
       "    </tr>\n",
       "  </tbody>\n",
       "</table>\n",
       "<p>5 rows × 21 columns</p>\n",
       "</div>"
      ],
      "text/plain": [
       "   id  battery_power  blue  clock_speed  dual_sim  fc  four_g  int_memory  \\\n",
       "0   1           1043     1          1.8         1  14       0           5   \n",
       "1   2            841     1          0.5         1   4       1          61   \n",
       "2   3           1807     1          2.8         0   1       0          27   \n",
       "3   4           1546     0          0.5         1  18       1          25   \n",
       "4   5           1434     0          1.4         0  11       1          49   \n",
       "\n",
       "   m_dep  mobile_wt  ...  pc  px_height  px_width   ram  sc_h  sc_w  \\\n",
       "0    0.1        193  ...  16        226      1412  3476    12     7   \n",
       "1    0.8        191  ...  12        746       857  3895     6     0   \n",
       "2    0.9        186  ...   4       1270      1366  2396    17    10   \n",
       "3    0.5         96  ...  20        295      1752  3893    10     0   \n",
       "4    0.5        108  ...  18        749       810  1773    15     8   \n",
       "\n",
       "   talk_time  three_g  touch_screen  wifi  \n",
       "0          2        0             1     0  \n",
       "1          7        1             0     0  \n",
       "2         10        0             1     1  \n",
       "3          7        1             1     0  \n",
       "4          7        1             0     1  \n",
       "\n",
       "[5 rows x 21 columns]"
      ]
     },
     "execution_count": 187,
     "metadata": {},
     "output_type": "execute_result"
    }
   ],
   "source": [
    "data_test.head()"
   ]
  },
  {
   "cell_type": "code",
   "execution_count": 188,
   "metadata": {},
   "outputs": [
    {
     "data": {
      "text/plain": [
       "battery_power    1094\n",
       "blue                2\n",
       "clock_speed        26\n",
       "dual_sim            2\n",
       "fc                 20\n",
       "four_g              2\n",
       "int_memory         63\n",
       "m_dep              10\n",
       "mobile_wt         121\n",
       "n_cores             8\n",
       "pc                 21\n",
       "px_height        1137\n",
       "px_width         1109\n",
       "ram              1562\n",
       "sc_h               15\n",
       "sc_w               19\n",
       "talk_time          19\n",
       "three_g             2\n",
       "touch_screen        2\n",
       "wifi                2\n",
       "price_range         4\n",
       "dtype: int64"
      ]
     },
     "execution_count": 188,
     "metadata": {},
     "output_type": "execute_result"
    }
   ],
   "source": [
    "data_train.nunique()"
   ]
  },
  {
   "cell_type": "code",
   "execution_count": 189,
   "metadata": {},
   "outputs": [
    {
     "name": "stdout",
     "output_type": "stream",
     "text": [
      "<class 'pandas.core.frame.DataFrame'>\n",
      "RangeIndex: 2000 entries, 0 to 1999\n",
      "Data columns (total 21 columns):\n",
      " #   Column         Non-Null Count  Dtype  \n",
      "---  ------         --------------  -----  \n",
      " 0   battery_power  2000 non-null   int64  \n",
      " 1   blue           2000 non-null   int64  \n",
      " 2   clock_speed    2000 non-null   float64\n",
      " 3   dual_sim       2000 non-null   int64  \n",
      " 4   fc             2000 non-null   int64  \n",
      " 5   four_g         2000 non-null   int64  \n",
      " 6   int_memory     2000 non-null   int64  \n",
      " 7   m_dep          2000 non-null   float64\n",
      " 8   mobile_wt      2000 non-null   int64  \n",
      " 9   n_cores        2000 non-null   int64  \n",
      " 10  pc             2000 non-null   int64  \n",
      " 11  px_height      2000 non-null   int64  \n",
      " 12  px_width       2000 non-null   int64  \n",
      " 13  ram            2000 non-null   int64  \n",
      " 14  sc_h           2000 non-null   int64  \n",
      " 15  sc_w           2000 non-null   int64  \n",
      " 16  talk_time      2000 non-null   int64  \n",
      " 17  three_g        2000 non-null   int64  \n",
      " 18  touch_screen   2000 non-null   int64  \n",
      " 19  wifi           2000 non-null   int64  \n",
      " 20  price_range    2000 non-null   int64  \n",
      "dtypes: float64(2), int64(19)\n",
      "memory usage: 328.2 KB\n"
     ]
    }
   ],
   "source": [
    "data_train.info()"
   ]
  },
  {
   "cell_type": "code",
   "execution_count": 190,
   "metadata": {},
   "outputs": [
    {
     "name": "stdout",
     "output_type": "stream",
     "text": [
      "<class 'pandas.core.frame.DataFrame'>\n",
      "RangeIndex: 1000 entries, 0 to 999\n",
      "Data columns (total 21 columns):\n",
      " #   Column         Non-Null Count  Dtype  \n",
      "---  ------         --------------  -----  \n",
      " 0   id             1000 non-null   int64  \n",
      " 1   battery_power  1000 non-null   int64  \n",
      " 2   blue           1000 non-null   int64  \n",
      " 3   clock_speed    1000 non-null   float64\n",
      " 4   dual_sim       1000 non-null   int64  \n",
      " 5   fc             1000 non-null   int64  \n",
      " 6   four_g         1000 non-null   int64  \n",
      " 7   int_memory     1000 non-null   int64  \n",
      " 8   m_dep          1000 non-null   float64\n",
      " 9   mobile_wt      1000 non-null   int64  \n",
      " 10  n_cores        1000 non-null   int64  \n",
      " 11  pc             1000 non-null   int64  \n",
      " 12  px_height      1000 non-null   int64  \n",
      " 13  px_width       1000 non-null   int64  \n",
      " 14  ram            1000 non-null   int64  \n",
      " 15  sc_h           1000 non-null   int64  \n",
      " 16  sc_w           1000 non-null   int64  \n",
      " 17  talk_time      1000 non-null   int64  \n",
      " 18  three_g        1000 non-null   int64  \n",
      " 19  touch_screen   1000 non-null   int64  \n",
      " 20  wifi           1000 non-null   int64  \n",
      "dtypes: float64(2), int64(19)\n",
      "memory usage: 164.2 KB\n"
     ]
    }
   ],
   "source": [
    "data_test.info()"
   ]
  },
  {
   "cell_type": "code",
   "execution_count": 191,
   "metadata": {},
   "outputs": [],
   "source": [
    "data_test.drop('id',axis=1,inplace=True)"
   ]
  },
  {
   "cell_type": "code",
   "execution_count": 192,
   "metadata": {},
   "outputs": [],
   "source": [
    "data = pd.concat([data_train,data_test])"
   ]
  },
  {
   "cell_type": "code",
   "execution_count": 193,
   "metadata": {},
   "outputs": [
    {
     "data": {
      "text/html": [
       "<div>\n",
       "<style scoped>\n",
       "    .dataframe tbody tr th:only-of-type {\n",
       "        vertical-align: middle;\n",
       "    }\n",
       "\n",
       "    .dataframe tbody tr th {\n",
       "        vertical-align: top;\n",
       "    }\n",
       "\n",
       "    .dataframe thead th {\n",
       "        text-align: right;\n",
       "    }\n",
       "</style>\n",
       "<table border=\"1\" class=\"dataframe\">\n",
       "  <thead>\n",
       "    <tr style=\"text-align: right;\">\n",
       "      <th></th>\n",
       "      <th>battery_power</th>\n",
       "      <th>blue</th>\n",
       "      <th>clock_speed</th>\n",
       "      <th>dual_sim</th>\n",
       "      <th>fc</th>\n",
       "      <th>four_g</th>\n",
       "      <th>int_memory</th>\n",
       "      <th>m_dep</th>\n",
       "      <th>mobile_wt</th>\n",
       "      <th>n_cores</th>\n",
       "      <th>...</th>\n",
       "      <th>px_height</th>\n",
       "      <th>px_width</th>\n",
       "      <th>ram</th>\n",
       "      <th>sc_h</th>\n",
       "      <th>sc_w</th>\n",
       "      <th>talk_time</th>\n",
       "      <th>three_g</th>\n",
       "      <th>touch_screen</th>\n",
       "      <th>wifi</th>\n",
       "      <th>price_range</th>\n",
       "    </tr>\n",
       "  </thead>\n",
       "  <tbody>\n",
       "    <tr>\n",
       "      <th>0</th>\n",
       "      <td>842</td>\n",
       "      <td>0</td>\n",
       "      <td>2.2</td>\n",
       "      <td>0</td>\n",
       "      <td>1</td>\n",
       "      <td>0</td>\n",
       "      <td>7</td>\n",
       "      <td>0.6</td>\n",
       "      <td>188</td>\n",
       "      <td>2</td>\n",
       "      <td>...</td>\n",
       "      <td>20</td>\n",
       "      <td>756</td>\n",
       "      <td>2549</td>\n",
       "      <td>9</td>\n",
       "      <td>7</td>\n",
       "      <td>19</td>\n",
       "      <td>0</td>\n",
       "      <td>0</td>\n",
       "      <td>1</td>\n",
       "      <td>1.0</td>\n",
       "    </tr>\n",
       "    <tr>\n",
       "      <th>1</th>\n",
       "      <td>1021</td>\n",
       "      <td>1</td>\n",
       "      <td>0.5</td>\n",
       "      <td>1</td>\n",
       "      <td>0</td>\n",
       "      <td>1</td>\n",
       "      <td>53</td>\n",
       "      <td>0.7</td>\n",
       "      <td>136</td>\n",
       "      <td>3</td>\n",
       "      <td>...</td>\n",
       "      <td>905</td>\n",
       "      <td>1988</td>\n",
       "      <td>2631</td>\n",
       "      <td>17</td>\n",
       "      <td>3</td>\n",
       "      <td>7</td>\n",
       "      <td>1</td>\n",
       "      <td>1</td>\n",
       "      <td>0</td>\n",
       "      <td>2.0</td>\n",
       "    </tr>\n",
       "    <tr>\n",
       "      <th>2</th>\n",
       "      <td>563</td>\n",
       "      <td>1</td>\n",
       "      <td>0.5</td>\n",
       "      <td>1</td>\n",
       "      <td>2</td>\n",
       "      <td>1</td>\n",
       "      <td>41</td>\n",
       "      <td>0.9</td>\n",
       "      <td>145</td>\n",
       "      <td>5</td>\n",
       "      <td>...</td>\n",
       "      <td>1263</td>\n",
       "      <td>1716</td>\n",
       "      <td>2603</td>\n",
       "      <td>11</td>\n",
       "      <td>2</td>\n",
       "      <td>9</td>\n",
       "      <td>1</td>\n",
       "      <td>1</td>\n",
       "      <td>0</td>\n",
       "      <td>2.0</td>\n",
       "    </tr>\n",
       "    <tr>\n",
       "      <th>3</th>\n",
       "      <td>615</td>\n",
       "      <td>1</td>\n",
       "      <td>2.5</td>\n",
       "      <td>0</td>\n",
       "      <td>0</td>\n",
       "      <td>0</td>\n",
       "      <td>10</td>\n",
       "      <td>0.8</td>\n",
       "      <td>131</td>\n",
       "      <td>6</td>\n",
       "      <td>...</td>\n",
       "      <td>1216</td>\n",
       "      <td>1786</td>\n",
       "      <td>2769</td>\n",
       "      <td>16</td>\n",
       "      <td>8</td>\n",
       "      <td>11</td>\n",
       "      <td>1</td>\n",
       "      <td>0</td>\n",
       "      <td>0</td>\n",
       "      <td>2.0</td>\n",
       "    </tr>\n",
       "    <tr>\n",
       "      <th>4</th>\n",
       "      <td>1821</td>\n",
       "      <td>1</td>\n",
       "      <td>1.2</td>\n",
       "      <td>0</td>\n",
       "      <td>13</td>\n",
       "      <td>1</td>\n",
       "      <td>44</td>\n",
       "      <td>0.6</td>\n",
       "      <td>141</td>\n",
       "      <td>2</td>\n",
       "      <td>...</td>\n",
       "      <td>1208</td>\n",
       "      <td>1212</td>\n",
       "      <td>1411</td>\n",
       "      <td>8</td>\n",
       "      <td>2</td>\n",
       "      <td>15</td>\n",
       "      <td>1</td>\n",
       "      <td>1</td>\n",
       "      <td>0</td>\n",
       "      <td>1.0</td>\n",
       "    </tr>\n",
       "  </tbody>\n",
       "</table>\n",
       "<p>5 rows × 21 columns</p>\n",
       "</div>"
      ],
      "text/plain": [
       "   battery_power  blue  clock_speed  dual_sim  fc  four_g  int_memory  m_dep  \\\n",
       "0            842     0          2.2         0   1       0           7    0.6   \n",
       "1           1021     1          0.5         1   0       1          53    0.7   \n",
       "2            563     1          0.5         1   2       1          41    0.9   \n",
       "3            615     1          2.5         0   0       0          10    0.8   \n",
       "4           1821     1          1.2         0  13       1          44    0.6   \n",
       "\n",
       "   mobile_wt  n_cores  ...  px_height  px_width   ram  sc_h  sc_w  talk_time  \\\n",
       "0        188        2  ...         20       756  2549     9     7         19   \n",
       "1        136        3  ...        905      1988  2631    17     3          7   \n",
       "2        145        5  ...       1263      1716  2603    11     2          9   \n",
       "3        131        6  ...       1216      1786  2769    16     8         11   \n",
       "4        141        2  ...       1208      1212  1411     8     2         15   \n",
       "\n",
       "   three_g  touch_screen  wifi  price_range  \n",
       "0        0             0     1          1.0  \n",
       "1        1             1     0          2.0  \n",
       "2        1             1     0          2.0  \n",
       "3        1             0     0          2.0  \n",
       "4        1             1     0          1.0  \n",
       "\n",
       "[5 rows x 21 columns]"
      ]
     },
     "execution_count": 193,
     "metadata": {},
     "output_type": "execute_result"
    }
   ],
   "source": [
    "data.head()"
   ]
  },
  {
   "cell_type": "code",
   "execution_count": 194,
   "metadata": {},
   "outputs": [
    {
     "name": "stdout",
     "output_type": "stream",
     "text": [
      "<class 'pandas.core.frame.DataFrame'>\n",
      "Int64Index: 3000 entries, 0 to 999\n",
      "Data columns (total 21 columns):\n",
      " #   Column         Non-Null Count  Dtype  \n",
      "---  ------         --------------  -----  \n",
      " 0   battery_power  3000 non-null   int64  \n",
      " 1   blue           3000 non-null   int64  \n",
      " 2   clock_speed    3000 non-null   float64\n",
      " 3   dual_sim       3000 non-null   int64  \n",
      " 4   fc             3000 non-null   int64  \n",
      " 5   four_g         3000 non-null   int64  \n",
      " 6   int_memory     3000 non-null   int64  \n",
      " 7   m_dep          3000 non-null   float64\n",
      " 8   mobile_wt      3000 non-null   int64  \n",
      " 9   n_cores        3000 non-null   int64  \n",
      " 10  pc             3000 non-null   int64  \n",
      " 11  px_height      3000 non-null   int64  \n",
      " 12  px_width       3000 non-null   int64  \n",
      " 13  ram            3000 non-null   int64  \n",
      " 14  sc_h           3000 non-null   int64  \n",
      " 15  sc_w           3000 non-null   int64  \n",
      " 16  talk_time      3000 non-null   int64  \n",
      " 17  three_g        3000 non-null   int64  \n",
      " 18  touch_screen   3000 non-null   int64  \n",
      " 19  wifi           3000 non-null   int64  \n",
      " 20  price_range    2000 non-null   float64\n",
      "dtypes: float64(3), int64(18)\n",
      "memory usage: 515.6 KB\n"
     ]
    }
   ],
   "source": [
    "data.info()"
   ]
  },
  {
   "cell_type": "markdown",
   "metadata": {},
   "source": [
    "# Checking for null values"
   ]
  },
  {
   "cell_type": "code",
   "execution_count": 195,
   "metadata": {},
   "outputs": [
    {
     "data": {
      "text/plain": [
       "battery_power       0\n",
       "blue                0\n",
       "clock_speed         0\n",
       "dual_sim            0\n",
       "fc                  0\n",
       "four_g              0\n",
       "int_memory          0\n",
       "m_dep               0\n",
       "mobile_wt           0\n",
       "n_cores             0\n",
       "pc                  0\n",
       "px_height           0\n",
       "px_width            0\n",
       "ram                 0\n",
       "sc_h                0\n",
       "sc_w                0\n",
       "talk_time           0\n",
       "three_g             0\n",
       "touch_screen        0\n",
       "wifi                0\n",
       "price_range      1000\n",
       "dtype: int64"
      ]
     },
     "execution_count": 195,
     "metadata": {},
     "output_type": "execute_result"
    }
   ],
   "source": [
    "data.isna().sum()"
   ]
  },
  {
   "cell_type": "markdown",
   "metadata": {},
   "source": [
    "# Correlation"
   ]
  },
  {
   "cell_type": "code",
   "execution_count": 196,
   "metadata": {},
   "outputs": [
    {
     "data": {
      "text/html": [
       "<div>\n",
       "<style scoped>\n",
       "    .dataframe tbody tr th:only-of-type {\n",
       "        vertical-align: middle;\n",
       "    }\n",
       "\n",
       "    .dataframe tbody tr th {\n",
       "        vertical-align: top;\n",
       "    }\n",
       "\n",
       "    .dataframe thead th {\n",
       "        text-align: right;\n",
       "    }\n",
       "</style>\n",
       "<table border=\"1\" class=\"dataframe\">\n",
       "  <thead>\n",
       "    <tr style=\"text-align: right;\">\n",
       "      <th></th>\n",
       "      <th>battery_power</th>\n",
       "      <th>blue</th>\n",
       "      <th>clock_speed</th>\n",
       "      <th>dual_sim</th>\n",
       "      <th>fc</th>\n",
       "      <th>four_g</th>\n",
       "      <th>int_memory</th>\n",
       "      <th>m_dep</th>\n",
       "      <th>mobile_wt</th>\n",
       "      <th>n_cores</th>\n",
       "      <th>...</th>\n",
       "      <th>px_height</th>\n",
       "      <th>px_width</th>\n",
       "      <th>ram</th>\n",
       "      <th>sc_h</th>\n",
       "      <th>sc_w</th>\n",
       "      <th>talk_time</th>\n",
       "      <th>three_g</th>\n",
       "      <th>touch_screen</th>\n",
       "      <th>wifi</th>\n",
       "      <th>price_range</th>\n",
       "    </tr>\n",
       "  </thead>\n",
       "  <tbody>\n",
       "    <tr>\n",
       "      <th>battery_power</th>\n",
       "      <td>1.000000</td>\n",
       "      <td>-0.007606</td>\n",
       "      <td>-0.005250</td>\n",
       "      <td>-0.048135</td>\n",
       "      <td>0.019819</td>\n",
       "      <td>-0.003877</td>\n",
       "      <td>-0.000998</td>\n",
       "      <td>0.020382</td>\n",
       "      <td>-0.014217</td>\n",
       "      <td>-0.011859</td>\n",
       "      <td>...</td>\n",
       "      <td>0.025628</td>\n",
       "      <td>0.012056</td>\n",
       "      <td>-0.011059</td>\n",
       "      <td>-0.038917</td>\n",
       "      <td>-0.022727</td>\n",
       "      <td>0.040337</td>\n",
       "      <td>0.018081</td>\n",
       "      <td>-0.010421</td>\n",
       "      <td>-0.005728</td>\n",
       "      <td>0.200723</td>\n",
       "    </tr>\n",
       "    <tr>\n",
       "      <th>blue</th>\n",
       "      <td>-0.007606</td>\n",
       "      <td>1.000000</td>\n",
       "      <td>0.026114</td>\n",
       "      <td>0.019910</td>\n",
       "      <td>-0.016035</td>\n",
       "      <td>0.007922</td>\n",
       "      <td>0.024133</td>\n",
       "      <td>0.009229</td>\n",
       "      <td>0.001789</td>\n",
       "      <td>0.024396</td>\n",
       "      <td>...</td>\n",
       "      <td>-0.024263</td>\n",
       "      <td>-0.038579</td>\n",
       "      <td>0.036893</td>\n",
       "      <td>0.001691</td>\n",
       "      <td>0.000818</td>\n",
       "      <td>-0.001305</td>\n",
       "      <td>-0.015693</td>\n",
       "      <td>-0.013350</td>\n",
       "      <td>-0.006057</td>\n",
       "      <td>0.020573</td>\n",
       "    </tr>\n",
       "    <tr>\n",
       "      <th>clock_speed</th>\n",
       "      <td>-0.005250</td>\n",
       "      <td>0.026114</td>\n",
       "      <td>1.000000</td>\n",
       "      <td>-0.004980</td>\n",
       "      <td>0.003514</td>\n",
       "      <td>-0.037196</td>\n",
       "      <td>-0.005467</td>\n",
       "      <td>-0.003707</td>\n",
       "      <td>0.003424</td>\n",
       "      <td>-0.008339</td>\n",
       "      <td>...</td>\n",
       "      <td>-0.004192</td>\n",
       "      <td>0.017658</td>\n",
       "      <td>0.002130</td>\n",
       "      <td>-0.032997</td>\n",
       "      <td>-0.014421</td>\n",
       "      <td>-0.034143</td>\n",
       "      <td>-0.038021</td>\n",
       "      <td>0.033917</td>\n",
       "      <td>-0.032594</td>\n",
       "      <td>-0.006606</td>\n",
       "    </tr>\n",
       "    <tr>\n",
       "      <th>dual_sim</th>\n",
       "      <td>-0.048135</td>\n",
       "      <td>0.019910</td>\n",
       "      <td>-0.004980</td>\n",
       "      <td>1.000000</td>\n",
       "      <td>0.000526</td>\n",
       "      <td>0.010192</td>\n",
       "      <td>-0.014199</td>\n",
       "      <td>-0.007585</td>\n",
       "      <td>-0.006660</td>\n",
       "      <td>-0.017750</td>\n",
       "      <td>...</td>\n",
       "      <td>-0.011925</td>\n",
       "      <td>0.014643</td>\n",
       "      <td>0.043486</td>\n",
       "      <td>-0.006008</td>\n",
       "      <td>-0.012221</td>\n",
       "      <td>-0.024706</td>\n",
       "      <td>-0.009127</td>\n",
       "      <td>-0.000096</td>\n",
       "      <td>0.025674</td>\n",
       "      <td>0.017444</td>\n",
       "    </tr>\n",
       "    <tr>\n",
       "      <th>fc</th>\n",
       "      <td>0.019819</td>\n",
       "      <td>-0.016035</td>\n",
       "      <td>0.003514</td>\n",
       "      <td>0.000526</td>\n",
       "      <td>1.000000</td>\n",
       "      <td>-0.000779</td>\n",
       "      <td>-0.020176</td>\n",
       "      <td>0.006548</td>\n",
       "      <td>0.021532</td>\n",
       "      <td>-0.002960</td>\n",
       "      <td>...</td>\n",
       "      <td>-0.013234</td>\n",
       "      <td>0.006695</td>\n",
       "      <td>-0.007520</td>\n",
       "      <td>0.007307</td>\n",
       "      <td>-0.007697</td>\n",
       "      <td>-0.021831</td>\n",
       "      <td>-0.002797</td>\n",
       "      <td>-0.004628</td>\n",
       "      <td>-0.007223</td>\n",
       "      <td>0.021998</td>\n",
       "    </tr>\n",
       "    <tr>\n",
       "      <th>four_g</th>\n",
       "      <td>-0.003877</td>\n",
       "      <td>0.007922</td>\n",
       "      <td>-0.037196</td>\n",
       "      <td>0.010192</td>\n",
       "      <td>-0.000779</td>\n",
       "      <td>1.000000</td>\n",
       "      <td>-0.008044</td>\n",
       "      <td>0.002775</td>\n",
       "      <td>-0.010920</td>\n",
       "      <td>0.003732</td>\n",
       "      <td>...</td>\n",
       "      <td>-0.001263</td>\n",
       "      <td>0.017664</td>\n",
       "      <td>0.014950</td>\n",
       "      <td>0.013950</td>\n",
       "      <td>0.026152</td>\n",
       "      <td>-0.026627</td>\n",
       "      <td>0.573829</td>\n",
       "      <td>0.007922</td>\n",
       "      <td>-0.023620</td>\n",
       "      <td>0.014772</td>\n",
       "    </tr>\n",
       "    <tr>\n",
       "      <th>int_memory</th>\n",
       "      <td>-0.000998</td>\n",
       "      <td>0.024133</td>\n",
       "      <td>-0.005467</td>\n",
       "      <td>-0.014199</td>\n",
       "      <td>-0.020176</td>\n",
       "      <td>-0.008044</td>\n",
       "      <td>1.000000</td>\n",
       "      <td>0.004277</td>\n",
       "      <td>-0.026769</td>\n",
       "      <td>-0.013321</td>\n",
       "      <td>...</td>\n",
       "      <td>0.003081</td>\n",
       "      <td>-0.007357</td>\n",
       "      <td>0.019742</td>\n",
       "      <td>0.020374</td>\n",
       "      <td>0.013828</td>\n",
       "      <td>0.006348</td>\n",
       "      <td>-0.011804</td>\n",
       "      <td>-0.010725</td>\n",
       "      <td>0.008606</td>\n",
       "      <td>0.044435</td>\n",
       "    </tr>\n",
       "    <tr>\n",
       "      <th>m_dep</th>\n",
       "      <td>0.020382</td>\n",
       "      <td>0.009229</td>\n",
       "      <td>-0.003707</td>\n",
       "      <td>-0.007585</td>\n",
       "      <td>0.006548</td>\n",
       "      <td>0.002775</td>\n",
       "      <td>0.004277</td>\n",
       "      <td>1.000000</td>\n",
       "      <td>0.000849</td>\n",
       "      <td>-0.000093</td>\n",
       "      <td>...</td>\n",
       "      <td>0.036750</td>\n",
       "      <td>0.026959</td>\n",
       "      <td>-0.000154</td>\n",
       "      <td>-0.026484</td>\n",
       "      <td>-0.021243</td>\n",
       "      <td>0.019500</td>\n",
       "      <td>-0.017879</td>\n",
       "      <td>0.011327</td>\n",
       "      <td>-0.032056</td>\n",
       "      <td>0.000853</td>\n",
       "    </tr>\n",
       "    <tr>\n",
       "      <th>mobile_wt</th>\n",
       "      <td>-0.014217</td>\n",
       "      <td>0.001789</td>\n",
       "      <td>0.003424</td>\n",
       "      <td>-0.006660</td>\n",
       "      <td>0.021532</td>\n",
       "      <td>-0.010920</td>\n",
       "      <td>-0.026769</td>\n",
       "      <td>0.000849</td>\n",
       "      <td>1.000000</td>\n",
       "      <td>-0.025144</td>\n",
       "      <td>...</td>\n",
       "      <td>0.004442</td>\n",
       "      <td>-0.004675</td>\n",
       "      <td>0.007720</td>\n",
       "      <td>-0.029531</td>\n",
       "      <td>-0.006372</td>\n",
       "      <td>-0.003097</td>\n",
       "      <td>0.003172</td>\n",
       "      <td>0.005084</td>\n",
       "      <td>0.022733</td>\n",
       "      <td>-0.030302</td>\n",
       "    </tr>\n",
       "    <tr>\n",
       "      <th>n_cores</th>\n",
       "      <td>-0.011859</td>\n",
       "      <td>0.024396</td>\n",
       "      <td>-0.008339</td>\n",
       "      <td>-0.017750</td>\n",
       "      <td>-0.002960</td>\n",
       "      <td>0.003732</td>\n",
       "      <td>-0.013321</td>\n",
       "      <td>-0.000093</td>\n",
       "      <td>-0.025144</td>\n",
       "      <td>1.000000</td>\n",
       "      <td>...</td>\n",
       "      <td>-0.021674</td>\n",
       "      <td>-0.003281</td>\n",
       "      <td>-0.011279</td>\n",
       "      <td>-0.010362</td>\n",
       "      <td>0.023479</td>\n",
       "      <td>0.006603</td>\n",
       "      <td>0.007503</td>\n",
       "      <td>0.010416</td>\n",
       "      <td>-0.009054</td>\n",
       "      <td>0.004399</td>\n",
       "    </tr>\n",
       "    <tr>\n",
       "      <th>pc</th>\n",
       "      <td>0.025401</td>\n",
       "      <td>-0.014850</td>\n",
       "      <td>0.012682</td>\n",
       "      <td>0.013381</td>\n",
       "      <td>0.649565</td>\n",
       "      <td>0.008524</td>\n",
       "      <td>-0.014118</td>\n",
       "      <td>0.022075</td>\n",
       "      <td>0.021547</td>\n",
       "      <td>0.003587</td>\n",
       "      <td>...</td>\n",
       "      <td>-0.003090</td>\n",
       "      <td>0.021710</td>\n",
       "      <td>0.003934</td>\n",
       "      <td>0.009594</td>\n",
       "      <td>-0.018572</td>\n",
       "      <td>-0.003098</td>\n",
       "      <td>-0.006058</td>\n",
       "      <td>0.001507</td>\n",
       "      <td>-0.014789</td>\n",
       "      <td>0.033599</td>\n",
       "    </tr>\n",
       "    <tr>\n",
       "      <th>px_height</th>\n",
       "      <td>0.025628</td>\n",
       "      <td>-0.024263</td>\n",
       "      <td>-0.004192</td>\n",
       "      <td>-0.011925</td>\n",
       "      <td>-0.013234</td>\n",
       "      <td>-0.001263</td>\n",
       "      <td>0.003081</td>\n",
       "      <td>0.036750</td>\n",
       "      <td>0.004442</td>\n",
       "      <td>-0.021674</td>\n",
       "      <td>...</td>\n",
       "      <td>1.000000</td>\n",
       "      <td>0.512989</td>\n",
       "      <td>-0.004612</td>\n",
       "      <td>0.044085</td>\n",
       "      <td>0.044070</td>\n",
       "      <td>0.009971</td>\n",
       "      <td>-0.024442</td>\n",
       "      <td>0.008331</td>\n",
       "      <td>0.030744</td>\n",
       "      <td>0.148858</td>\n",
       "    </tr>\n",
       "    <tr>\n",
       "      <th>px_width</th>\n",
       "      <td>0.012056</td>\n",
       "      <td>-0.038579</td>\n",
       "      <td>0.017658</td>\n",
       "      <td>0.014643</td>\n",
       "      <td>0.006695</td>\n",
       "      <td>0.017664</td>\n",
       "      <td>-0.007357</td>\n",
       "      <td>0.026959</td>\n",
       "      <td>-0.004675</td>\n",
       "      <td>-0.003281</td>\n",
       "      <td>...</td>\n",
       "      <td>0.512989</td>\n",
       "      <td>1.000000</td>\n",
       "      <td>-0.006271</td>\n",
       "      <td>0.006884</td>\n",
       "      <td>0.025355</td>\n",
       "      <td>0.022441</td>\n",
       "      <td>0.006894</td>\n",
       "      <td>-0.014521</td>\n",
       "      <td>-0.004845</td>\n",
       "      <td>0.165818</td>\n",
       "    </tr>\n",
       "    <tr>\n",
       "      <th>ram</th>\n",
       "      <td>-0.011059</td>\n",
       "      <td>0.036893</td>\n",
       "      <td>0.002130</td>\n",
       "      <td>0.043486</td>\n",
       "      <td>-0.007520</td>\n",
       "      <td>0.014950</td>\n",
       "      <td>0.019742</td>\n",
       "      <td>-0.000154</td>\n",
       "      <td>0.007720</td>\n",
       "      <td>-0.011279</td>\n",
       "      <td>...</td>\n",
       "      <td>-0.004612</td>\n",
       "      <td>-0.006271</td>\n",
       "      <td>1.000000</td>\n",
       "      <td>0.018104</td>\n",
       "      <td>0.033609</td>\n",
       "      <td>0.006087</td>\n",
       "      <td>0.020427</td>\n",
       "      <td>-0.034880</td>\n",
       "      <td>0.004443</td>\n",
       "      <td>0.917046</td>\n",
       "    </tr>\n",
       "    <tr>\n",
       "      <th>sc_h</th>\n",
       "      <td>-0.038917</td>\n",
       "      <td>0.001691</td>\n",
       "      <td>-0.032997</td>\n",
       "      <td>-0.006008</td>\n",
       "      <td>0.007307</td>\n",
       "      <td>0.013950</td>\n",
       "      <td>0.020374</td>\n",
       "      <td>-0.026484</td>\n",
       "      <td>-0.029531</td>\n",
       "      <td>-0.010362</td>\n",
       "      <td>...</td>\n",
       "      <td>0.044085</td>\n",
       "      <td>0.006884</td>\n",
       "      <td>0.018104</td>\n",
       "      <td>1.000000</td>\n",
       "      <td>0.503791</td>\n",
       "      <td>-0.002789</td>\n",
       "      <td>0.001491</td>\n",
       "      <td>-0.017758</td>\n",
       "      <td>0.016117</td>\n",
       "      <td>0.022986</td>\n",
       "    </tr>\n",
       "    <tr>\n",
       "      <th>sc_w</th>\n",
       "      <td>-0.022727</td>\n",
       "      <td>0.000818</td>\n",
       "      <td>-0.014421</td>\n",
       "      <td>-0.012221</td>\n",
       "      <td>-0.007697</td>\n",
       "      <td>0.026152</td>\n",
       "      <td>0.013828</td>\n",
       "      <td>-0.021243</td>\n",
       "      <td>-0.006372</td>\n",
       "      <td>0.023479</td>\n",
       "      <td>...</td>\n",
       "      <td>0.044070</td>\n",
       "      <td>0.025355</td>\n",
       "      <td>0.033609</td>\n",
       "      <td>0.503791</td>\n",
       "      <td>1.000000</td>\n",
       "      <td>0.005383</td>\n",
       "      <td>0.021411</td>\n",
       "      <td>-0.006895</td>\n",
       "      <td>0.028857</td>\n",
       "      <td>0.038711</td>\n",
       "    </tr>\n",
       "    <tr>\n",
       "      <th>talk_time</th>\n",
       "      <td>0.040337</td>\n",
       "      <td>-0.001305</td>\n",
       "      <td>-0.034143</td>\n",
       "      <td>-0.024706</td>\n",
       "      <td>-0.021831</td>\n",
       "      <td>-0.026627</td>\n",
       "      <td>0.006348</td>\n",
       "      <td>0.019500</td>\n",
       "      <td>-0.003097</td>\n",
       "      <td>0.006603</td>\n",
       "      <td>...</td>\n",
       "      <td>0.009971</td>\n",
       "      <td>0.022441</td>\n",
       "      <td>0.006087</td>\n",
       "      <td>-0.002789</td>\n",
       "      <td>0.005383</td>\n",
       "      <td>1.000000</td>\n",
       "      <td>-0.028973</td>\n",
       "      <td>0.021106</td>\n",
       "      <td>-0.014039</td>\n",
       "      <td>0.021859</td>\n",
       "    </tr>\n",
       "    <tr>\n",
       "      <th>three_g</th>\n",
       "      <td>0.018081</td>\n",
       "      <td>-0.015693</td>\n",
       "      <td>-0.038021</td>\n",
       "      <td>-0.009127</td>\n",
       "      <td>-0.002797</td>\n",
       "      <td>0.573829</td>\n",
       "      <td>-0.011804</td>\n",
       "      <td>-0.017879</td>\n",
       "      <td>0.003172</td>\n",
       "      <td>0.007503</td>\n",
       "      <td>...</td>\n",
       "      <td>-0.024442</td>\n",
       "      <td>0.006894</td>\n",
       "      <td>0.020427</td>\n",
       "      <td>0.001491</td>\n",
       "      <td>0.021411</td>\n",
       "      <td>-0.028973</td>\n",
       "      <td>1.000000</td>\n",
       "      <td>0.009271</td>\n",
       "      <td>-0.005388</td>\n",
       "      <td>0.023611</td>\n",
       "    </tr>\n",
       "    <tr>\n",
       "      <th>touch_screen</th>\n",
       "      <td>-0.010421</td>\n",
       "      <td>-0.013350</td>\n",
       "      <td>0.033917</td>\n",
       "      <td>-0.000096</td>\n",
       "      <td>-0.004628</td>\n",
       "      <td>0.007922</td>\n",
       "      <td>-0.010725</td>\n",
       "      <td>0.011327</td>\n",
       "      <td>0.005084</td>\n",
       "      <td>0.010416</td>\n",
       "      <td>...</td>\n",
       "      <td>0.008331</td>\n",
       "      <td>-0.014521</td>\n",
       "      <td>-0.034880</td>\n",
       "      <td>-0.017758</td>\n",
       "      <td>-0.006895</td>\n",
       "      <td>0.021106</td>\n",
       "      <td>0.009271</td>\n",
       "      <td>1.000000</td>\n",
       "      <td>-0.000723</td>\n",
       "      <td>-0.030411</td>\n",
       "    </tr>\n",
       "    <tr>\n",
       "      <th>wifi</th>\n",
       "      <td>-0.005728</td>\n",
       "      <td>-0.006057</td>\n",
       "      <td>-0.032594</td>\n",
       "      <td>0.025674</td>\n",
       "      <td>-0.007223</td>\n",
       "      <td>-0.023620</td>\n",
       "      <td>0.008606</td>\n",
       "      <td>-0.032056</td>\n",
       "      <td>0.022733</td>\n",
       "      <td>-0.009054</td>\n",
       "      <td>...</td>\n",
       "      <td>0.030744</td>\n",
       "      <td>-0.004845</td>\n",
       "      <td>0.004443</td>\n",
       "      <td>0.016117</td>\n",
       "      <td>0.028857</td>\n",
       "      <td>-0.014039</td>\n",
       "      <td>-0.005388</td>\n",
       "      <td>-0.000723</td>\n",
       "      <td>1.000000</td>\n",
       "      <td>0.018785</td>\n",
       "    </tr>\n",
       "    <tr>\n",
       "      <th>price_range</th>\n",
       "      <td>0.200723</td>\n",
       "      <td>0.020573</td>\n",
       "      <td>-0.006606</td>\n",
       "      <td>0.017444</td>\n",
       "      <td>0.021998</td>\n",
       "      <td>0.014772</td>\n",
       "      <td>0.044435</td>\n",
       "      <td>0.000853</td>\n",
       "      <td>-0.030302</td>\n",
       "      <td>0.004399</td>\n",
       "      <td>...</td>\n",
       "      <td>0.148858</td>\n",
       "      <td>0.165818</td>\n",
       "      <td>0.917046</td>\n",
       "      <td>0.022986</td>\n",
       "      <td>0.038711</td>\n",
       "      <td>0.021859</td>\n",
       "      <td>0.023611</td>\n",
       "      <td>-0.030411</td>\n",
       "      <td>0.018785</td>\n",
       "      <td>1.000000</td>\n",
       "    </tr>\n",
       "  </tbody>\n",
       "</table>\n",
       "<p>21 rows × 21 columns</p>\n",
       "</div>"
      ],
      "text/plain": [
       "               battery_power      blue  clock_speed  dual_sim        fc  \\\n",
       "battery_power       1.000000 -0.007606    -0.005250 -0.048135  0.019819   \n",
       "blue               -0.007606  1.000000     0.026114  0.019910 -0.016035   \n",
       "clock_speed        -0.005250  0.026114     1.000000 -0.004980  0.003514   \n",
       "dual_sim           -0.048135  0.019910    -0.004980  1.000000  0.000526   \n",
       "fc                  0.019819 -0.016035     0.003514  0.000526  1.000000   \n",
       "four_g             -0.003877  0.007922    -0.037196  0.010192 -0.000779   \n",
       "int_memory         -0.000998  0.024133    -0.005467 -0.014199 -0.020176   \n",
       "m_dep               0.020382  0.009229    -0.003707 -0.007585  0.006548   \n",
       "mobile_wt          -0.014217  0.001789     0.003424 -0.006660  0.021532   \n",
       "n_cores            -0.011859  0.024396    -0.008339 -0.017750 -0.002960   \n",
       "pc                  0.025401 -0.014850     0.012682  0.013381  0.649565   \n",
       "px_height           0.025628 -0.024263    -0.004192 -0.011925 -0.013234   \n",
       "px_width            0.012056 -0.038579     0.017658  0.014643  0.006695   \n",
       "ram                -0.011059  0.036893     0.002130  0.043486 -0.007520   \n",
       "sc_h               -0.038917  0.001691    -0.032997 -0.006008  0.007307   \n",
       "sc_w               -0.022727  0.000818    -0.014421 -0.012221 -0.007697   \n",
       "talk_time           0.040337 -0.001305    -0.034143 -0.024706 -0.021831   \n",
       "three_g             0.018081 -0.015693    -0.038021 -0.009127 -0.002797   \n",
       "touch_screen       -0.010421 -0.013350     0.033917 -0.000096 -0.004628   \n",
       "wifi               -0.005728 -0.006057    -0.032594  0.025674 -0.007223   \n",
       "price_range         0.200723  0.020573    -0.006606  0.017444  0.021998   \n",
       "\n",
       "                 four_g  int_memory     m_dep  mobile_wt   n_cores  ...  \\\n",
       "battery_power -0.003877   -0.000998  0.020382  -0.014217 -0.011859  ...   \n",
       "blue           0.007922    0.024133  0.009229   0.001789  0.024396  ...   \n",
       "clock_speed   -0.037196   -0.005467 -0.003707   0.003424 -0.008339  ...   \n",
       "dual_sim       0.010192   -0.014199 -0.007585  -0.006660 -0.017750  ...   \n",
       "fc            -0.000779   -0.020176  0.006548   0.021532 -0.002960  ...   \n",
       "four_g         1.000000   -0.008044  0.002775  -0.010920  0.003732  ...   \n",
       "int_memory    -0.008044    1.000000  0.004277  -0.026769 -0.013321  ...   \n",
       "m_dep          0.002775    0.004277  1.000000   0.000849 -0.000093  ...   \n",
       "mobile_wt     -0.010920   -0.026769  0.000849   1.000000 -0.025144  ...   \n",
       "n_cores        0.003732   -0.013321 -0.000093  -0.025144  1.000000  ...   \n",
       "pc             0.008524   -0.014118  0.022075   0.021547  0.003587  ...   \n",
       "px_height     -0.001263    0.003081  0.036750   0.004442 -0.021674  ...   \n",
       "px_width       0.017664   -0.007357  0.026959  -0.004675 -0.003281  ...   \n",
       "ram            0.014950    0.019742 -0.000154   0.007720 -0.011279  ...   \n",
       "sc_h           0.013950    0.020374 -0.026484  -0.029531 -0.010362  ...   \n",
       "sc_w           0.026152    0.013828 -0.021243  -0.006372  0.023479  ...   \n",
       "talk_time     -0.026627    0.006348  0.019500  -0.003097  0.006603  ...   \n",
       "three_g        0.573829   -0.011804 -0.017879   0.003172  0.007503  ...   \n",
       "touch_screen   0.007922   -0.010725  0.011327   0.005084  0.010416  ...   \n",
       "wifi          -0.023620    0.008606 -0.032056   0.022733 -0.009054  ...   \n",
       "price_range    0.014772    0.044435  0.000853  -0.030302  0.004399  ...   \n",
       "\n",
       "               px_height  px_width       ram      sc_h      sc_w  talk_time  \\\n",
       "battery_power   0.025628  0.012056 -0.011059 -0.038917 -0.022727   0.040337   \n",
       "blue           -0.024263 -0.038579  0.036893  0.001691  0.000818  -0.001305   \n",
       "clock_speed    -0.004192  0.017658  0.002130 -0.032997 -0.014421  -0.034143   \n",
       "dual_sim       -0.011925  0.014643  0.043486 -0.006008 -0.012221  -0.024706   \n",
       "fc             -0.013234  0.006695 -0.007520  0.007307 -0.007697  -0.021831   \n",
       "four_g         -0.001263  0.017664  0.014950  0.013950  0.026152  -0.026627   \n",
       "int_memory      0.003081 -0.007357  0.019742  0.020374  0.013828   0.006348   \n",
       "m_dep           0.036750  0.026959 -0.000154 -0.026484 -0.021243   0.019500   \n",
       "mobile_wt       0.004442 -0.004675  0.007720 -0.029531 -0.006372  -0.003097   \n",
       "n_cores        -0.021674 -0.003281 -0.011279 -0.010362  0.023479   0.006603   \n",
       "pc             -0.003090  0.021710  0.003934  0.009594 -0.018572  -0.003098   \n",
       "px_height       1.000000  0.512989 -0.004612  0.044085  0.044070   0.009971   \n",
       "px_width        0.512989  1.000000 -0.006271  0.006884  0.025355   0.022441   \n",
       "ram            -0.004612 -0.006271  1.000000  0.018104  0.033609   0.006087   \n",
       "sc_h            0.044085  0.006884  0.018104  1.000000  0.503791  -0.002789   \n",
       "sc_w            0.044070  0.025355  0.033609  0.503791  1.000000   0.005383   \n",
       "talk_time       0.009971  0.022441  0.006087 -0.002789  0.005383   1.000000   \n",
       "three_g        -0.024442  0.006894  0.020427  0.001491  0.021411  -0.028973   \n",
       "touch_screen    0.008331 -0.014521 -0.034880 -0.017758 -0.006895   0.021106   \n",
       "wifi            0.030744 -0.004845  0.004443  0.016117  0.028857  -0.014039   \n",
       "price_range     0.148858  0.165818  0.917046  0.022986  0.038711   0.021859   \n",
       "\n",
       "                three_g  touch_screen      wifi  price_range  \n",
       "battery_power  0.018081     -0.010421 -0.005728     0.200723  \n",
       "blue          -0.015693     -0.013350 -0.006057     0.020573  \n",
       "clock_speed   -0.038021      0.033917 -0.032594    -0.006606  \n",
       "dual_sim      -0.009127     -0.000096  0.025674     0.017444  \n",
       "fc            -0.002797     -0.004628 -0.007223     0.021998  \n",
       "four_g         0.573829      0.007922 -0.023620     0.014772  \n",
       "int_memory    -0.011804     -0.010725  0.008606     0.044435  \n",
       "m_dep         -0.017879      0.011327 -0.032056     0.000853  \n",
       "mobile_wt      0.003172      0.005084  0.022733    -0.030302  \n",
       "n_cores        0.007503      0.010416 -0.009054     0.004399  \n",
       "pc            -0.006058      0.001507 -0.014789     0.033599  \n",
       "px_height     -0.024442      0.008331  0.030744     0.148858  \n",
       "px_width       0.006894     -0.014521 -0.004845     0.165818  \n",
       "ram            0.020427     -0.034880  0.004443     0.917046  \n",
       "sc_h           0.001491     -0.017758  0.016117     0.022986  \n",
       "sc_w           0.021411     -0.006895  0.028857     0.038711  \n",
       "talk_time     -0.028973      0.021106 -0.014039     0.021859  \n",
       "three_g        1.000000      0.009271 -0.005388     0.023611  \n",
       "touch_screen   0.009271      1.000000 -0.000723    -0.030411  \n",
       "wifi          -0.005388     -0.000723  1.000000     0.018785  \n",
       "price_range    0.023611     -0.030411  0.018785     1.000000  \n",
       "\n",
       "[21 rows x 21 columns]"
      ]
     },
     "execution_count": 196,
     "metadata": {},
     "output_type": "execute_result"
    }
   ],
   "source": [
    "data.corr()"
   ]
  },
  {
   "cell_type": "code",
   "execution_count": 197,
   "metadata": {},
   "outputs": [
    {
     "data": {
      "text/plain": [
       "<matplotlib.axes._subplots.AxesSubplot at 0x25397c98dc0>"
      ]
     },
     "execution_count": 197,
     "metadata": {},
     "output_type": "execute_result"
    },
    {
     "data": {
      "image/png": "[encoded data removed]",
      "text/plain": [
       "<Figure size 1440x576 with 2 Axes>"
      ]
     },
     "metadata": {},
     "output_type": "display_data"
    }
   ],
   "source": [
    "corrmatrix = data.corr()\n",
    "plt.figure(figsize=(20,8))\n",
    "sns.heatmap(corrmatrix,annot=True,cmap=\"Blues\",vmin=-0.01,vmax=0.5,linewidths=0.2)"
   ]
  },
  {
   "cell_type": "code",
   "execution_count": 198,
   "metadata": {},
   "outputs": [
    {
     "data": {
      "text/html": [
       "<div>\n",
       "<style scoped>\n",
       "    .dataframe tbody tr th:only-of-type {\n",
       "        vertical-align: middle;\n",
       "    }\n",
       "\n",
       "    .dataframe tbody tr th {\n",
       "        vertical-align: top;\n",
       "    }\n",
       "\n",
       "    .dataframe thead th {\n",
       "        text-align: right;\n",
       "    }\n",
       "</style>\n",
       "<table border=\"1\" class=\"dataframe\">\n",
       "  <thead>\n",
       "    <tr style=\"text-align: right;\">\n",
       "      <th></th>\n",
       "      <th>battery_power</th>\n",
       "      <th>blue</th>\n",
       "      <th>clock_speed</th>\n",
       "      <th>dual_sim</th>\n",
       "      <th>fc</th>\n",
       "      <th>four_g</th>\n",
       "      <th>int_memory</th>\n",
       "      <th>m_dep</th>\n",
       "      <th>mobile_wt</th>\n",
       "      <th>n_cores</th>\n",
       "      <th>...</th>\n",
       "      <th>px_height</th>\n",
       "      <th>px_width</th>\n",
       "      <th>ram</th>\n",
       "      <th>sc_h</th>\n",
       "      <th>sc_w</th>\n",
       "      <th>talk_time</th>\n",
       "      <th>three_g</th>\n",
       "      <th>touch_screen</th>\n",
       "      <th>wifi</th>\n",
       "      <th>price_range</th>\n",
       "    </tr>\n",
       "  </thead>\n",
       "  <tbody>\n",
       "    <tr>\n",
       "      <th>count</th>\n",
       "      <td>3000.000000</td>\n",
       "      <td>3000.000000</td>\n",
       "      <td>3000.000000</td>\n",
       "      <td>3000.000000</td>\n",
       "      <td>3000.000000</td>\n",
       "      <td>3000.000000</td>\n",
       "      <td>3000.000000</td>\n",
       "      <td>3000.000000</td>\n",
       "      <td>3000.000000</td>\n",
       "      <td>3000.000000</td>\n",
       "      <td>...</td>\n",
       "      <td>3000.000000</td>\n",
       "      <td>3000.000000</td>\n",
       "      <td>3000.000000</td>\n",
       "      <td>3000.000000</td>\n",
       "      <td>3000.000000</td>\n",
       "      <td>3000.000000</td>\n",
       "      <td>3000.000000</td>\n",
       "      <td>3000.000000</td>\n",
       "      <td>3000.000000</td>\n",
       "      <td>2000.000000</td>\n",
       "    </tr>\n",
       "    <tr>\n",
       "      <th>mean</th>\n",
       "      <td>1241.849000</td>\n",
       "      <td>0.502000</td>\n",
       "      <td>1.528467</td>\n",
       "      <td>0.512000</td>\n",
       "      <td>4.404000</td>\n",
       "      <td>0.510000</td>\n",
       "      <td>32.581667</td>\n",
       "      <td>0.507000</td>\n",
       "      <td>140.003000</td>\n",
       "      <td>4.456333</td>\n",
       "      <td>...</td>\n",
       "      <td>639.112333</td>\n",
       "      <td>1247.601667</td>\n",
       "      <td>2129.141333</td>\n",
       "      <td>12.202667</td>\n",
       "      <td>5.616667</td>\n",
       "      <td>11.035667</td>\n",
       "      <td>0.759667</td>\n",
       "      <td>0.502000</td>\n",
       "      <td>0.507000</td>\n",
       "      <td>1.500000</td>\n",
       "    </tr>\n",
       "    <tr>\n",
       "      <th>std</th>\n",
       "      <td>437.063804</td>\n",
       "      <td>0.500079</td>\n",
       "      <td>0.820358</td>\n",
       "      <td>0.499939</td>\n",
       "      <td>4.383742</td>\n",
       "      <td>0.499983</td>\n",
       "      <td>18.152810</td>\n",
       "      <td>0.285969</td>\n",
       "      <td>35.213809</td>\n",
       "      <td>2.289361</td>\n",
       "      <td>...</td>\n",
       "      <td>440.202998</td>\n",
       "      <td>434.666168</td>\n",
       "      <td>1085.694231</td>\n",
       "      <td>4.251151</td>\n",
       "      <td>4.322494</td>\n",
       "      <td>5.474400</td>\n",
       "      <td>0.427357</td>\n",
       "      <td>0.500079</td>\n",
       "      <td>0.500034</td>\n",
       "      <td>1.118314</td>\n",
       "    </tr>\n",
       "    <tr>\n",
       "      <th>min</th>\n",
       "      <td>500.000000</td>\n",
       "      <td>0.000000</td>\n",
       "      <td>0.500000</td>\n",
       "      <td>0.000000</td>\n",
       "      <td>0.000000</td>\n",
       "      <td>0.000000</td>\n",
       "      <td>2.000000</td>\n",
       "      <td>0.100000</td>\n",
       "      <td>80.000000</td>\n",
       "      <td>1.000000</td>\n",
       "      <td>...</td>\n",
       "      <td>0.000000</td>\n",
       "      <td>500.000000</td>\n",
       "      <td>256.000000</td>\n",
       "      <td>5.000000</td>\n",
       "      <td>0.000000</td>\n",
       "      <td>2.000000</td>\n",
       "      <td>0.000000</td>\n",
       "      <td>0.000000</td>\n",
       "      <td>0.000000</td>\n",
       "      <td>0.000000</td>\n",
       "    </tr>\n",
       "    <tr>\n",
       "      <th>25%</th>\n",
       "      <td>863.750000</td>\n",
       "      <td>0.000000</td>\n",
       "      <td>0.700000</td>\n",
       "      <td>0.000000</td>\n",
       "      <td>1.000000</td>\n",
       "      <td>0.000000</td>\n",
       "      <td>16.000000</td>\n",
       "      <td>0.200000</td>\n",
       "      <td>109.000000</td>\n",
       "      <td>2.000000</td>\n",
       "      <td>...</td>\n",
       "      <td>277.750000</td>\n",
       "      <td>865.000000</td>\n",
       "      <td>1212.750000</td>\n",
       "      <td>9.000000</td>\n",
       "      <td>2.000000</td>\n",
       "      <td>6.000000</td>\n",
       "      <td>1.000000</td>\n",
       "      <td>0.000000</td>\n",
       "      <td>0.000000</td>\n",
       "      <td>0.750000</td>\n",
       "    </tr>\n",
       "    <tr>\n",
       "      <th>50%</th>\n",
       "      <td>1232.000000</td>\n",
       "      <td>1.000000</td>\n",
       "      <td>1.500000</td>\n",
       "      <td>1.000000</td>\n",
       "      <td>3.000000</td>\n",
       "      <td>1.000000</td>\n",
       "      <td>33.000000</td>\n",
       "      <td>0.500000</td>\n",
       "      <td>140.000000</td>\n",
       "      <td>4.000000</td>\n",
       "      <td>...</td>\n",
       "      <td>564.000000</td>\n",
       "      <td>1248.000000</td>\n",
       "      <td>2147.500000</td>\n",
       "      <td>12.000000</td>\n",
       "      <td>5.000000</td>\n",
       "      <td>11.000000</td>\n",
       "      <td>1.000000</td>\n",
       "      <td>1.000000</td>\n",
       "      <td>1.000000</td>\n",
       "      <td>1.500000</td>\n",
       "    </tr>\n",
       "    <tr>\n",
       "      <th>75%</th>\n",
       "      <td>1619.000000</td>\n",
       "      <td>1.000000</td>\n",
       "      <td>2.300000</td>\n",
       "      <td>1.000000</td>\n",
       "      <td>7.000000</td>\n",
       "      <td>1.000000</td>\n",
       "      <td>48.000000</td>\n",
       "      <td>0.800000</td>\n",
       "      <td>170.000000</td>\n",
       "      <td>6.000000</td>\n",
       "      <td>...</td>\n",
       "      <td>932.500000</td>\n",
       "      <td>1634.000000</td>\n",
       "      <td>3065.250000</td>\n",
       "      <td>16.000000</td>\n",
       "      <td>9.000000</td>\n",
       "      <td>16.000000</td>\n",
       "      <td>1.000000</td>\n",
       "      <td>1.000000</td>\n",
       "      <td>1.000000</td>\n",
       "      <td>2.250000</td>\n",
       "    </tr>\n",
       "    <tr>\n",
       "      <th>max</th>\n",
       "      <td>1999.000000</td>\n",
       "      <td>1.000000</td>\n",
       "      <td>3.000000</td>\n",
       "      <td>1.000000</td>\n",
       "      <td>19.000000</td>\n",
       "      <td>1.000000</td>\n",
       "      <td>64.000000</td>\n",
       "      <td>1.000000</td>\n",
       "      <td>200.000000</td>\n",
       "      <td>8.000000</td>\n",
       "      <td>...</td>\n",
       "      <td>1960.000000</td>\n",
       "      <td>1998.000000</td>\n",
       "      <td>3998.000000</td>\n",
       "      <td>19.000000</td>\n",
       "      <td>18.000000</td>\n",
       "      <td>20.000000</td>\n",
       "      <td>1.000000</td>\n",
       "      <td>1.000000</td>\n",
       "      <td>1.000000</td>\n",
       "      <td>3.000000</td>\n",
       "    </tr>\n",
       "  </tbody>\n",
       "</table>\n",
       "<p>8 rows × 21 columns</p>\n",
       "</div>"
      ],
      "text/plain": [
       "       battery_power         blue  clock_speed     dual_sim           fc  \\\n",
       "count    3000.000000  3000.000000  3000.000000  3000.000000  3000.000000   \n",
       "mean     1241.849000     0.502000     1.528467     0.512000     4.404000   \n",
       "std       437.063804     0.500079     0.820358     0.499939     4.383742   \n",
       "min       500.000000     0.000000     0.500000     0.000000     0.000000   \n",
       "25%       863.750000     0.000000     0.700000     0.000000     1.000000   \n",
       "50%      1232.000000     1.000000     1.500000     1.000000     3.000000   \n",
       "75%      1619.000000     1.000000     2.300000     1.000000     7.000000   \n",
       "max      1999.000000     1.000000     3.000000     1.000000    19.000000   \n",
       "\n",
       "            four_g   int_memory        m_dep    mobile_wt      n_cores  ...  \\\n",
       "count  3000.000000  3000.000000  3000.000000  3000.000000  3000.000000  ...   \n",
       "mean      0.510000    32.581667     0.507000   140.003000     4.456333  ...   \n",
       "std       0.499983    18.152810     0.285969    35.213809     2.289361  ...   \n",
       "min       0.000000     2.000000     0.100000    80.000000     1.000000  ...   \n",
       "25%       0.000000    16.000000     0.200000   109.000000     2.000000  ...   \n",
       "50%       1.000000    33.000000     0.500000   140.000000     4.000000  ...   \n",
       "75%       1.000000    48.000000     0.800000   170.000000     6.000000  ...   \n",
       "max       1.000000    64.000000     1.000000   200.000000     8.000000  ...   \n",
       "\n",
       "         px_height     px_width          ram         sc_h         sc_w  \\\n",
       "count  3000.000000  3000.000000  3000.000000  3000.000000  3000.000000   \n",
       "mean    639.112333  1247.601667  2129.141333    12.202667     5.616667   \n",
       "std     440.202998   434.666168  1085.694231     4.251151     4.322494   \n",
       "min       0.000000   500.000000   256.000000     5.000000     0.000000   \n",
       "25%     277.750000   865.000000  1212.750000     9.000000     2.000000   \n",
       "50%     564.000000  1248.000000  2147.500000    12.000000     5.000000   \n",
       "75%     932.500000  1634.000000  3065.250000    16.000000     9.000000   \n",
       "max    1960.000000  1998.000000  3998.000000    19.000000    18.000000   \n",
       "\n",
       "         talk_time      three_g  touch_screen         wifi  price_range  \n",
       "count  3000.000000  3000.000000   3000.000000  3000.000000  2000.000000  \n",
       "mean     11.035667     0.759667      0.502000     0.507000     1.500000  \n",
       "std       5.474400     0.427357      0.500079     0.500034     1.118314  \n",
       "min       2.000000     0.000000      0.000000     0.000000     0.000000  \n",
       "25%       6.000000     1.000000      0.000000     0.000000     0.750000  \n",
       "50%      11.000000     1.000000      1.000000     1.000000     1.500000  \n",
       "75%      16.000000     1.000000      1.000000     1.000000     2.250000  \n",
       "max      20.000000     1.000000      1.000000     1.000000     3.000000  \n",
       "\n",
       "[8 rows x 21 columns]"
      ]
     },
     "execution_count": 198,
     "metadata": {},
     "output_type": "execute_result"
    }
   ],
   "source": [
    "data.describe()"
   ]
  },
  {
   "cell_type": "code",
   "execution_count": 199,
   "metadata": {},
   "outputs": [
    {
     "data": {
      "text/plain": [
       "battery_power    1275\n",
       "blue                2\n",
       "clock_speed        26\n",
       "dual_sim            2\n",
       "fc                 20\n",
       "four_g              2\n",
       "int_memory         63\n",
       "m_dep              10\n",
       "mobile_wt         121\n",
       "n_cores             8\n",
       "pc                 21\n",
       "px_height        1333\n",
       "px_width         1313\n",
       "ram              2070\n",
       "sc_h               15\n",
       "sc_w               19\n",
       "talk_time          19\n",
       "three_g             2\n",
       "touch_screen        2\n",
       "wifi                2\n",
       "price_range         4\n",
       "dtype: int64"
      ]
     },
     "execution_count": 199,
     "metadata": {},
     "output_type": "execute_result"
    }
   ],
   "source": [
    "data.nunique()"
   ]
  },
  {
   "cell_type": "code",
   "execution_count": 200,
   "metadata": {},
   "outputs": [
    {
     "data": {
      "text/plain": [
       "0     2\n",
       "1     6\n",
       "2     6\n",
       "3     9\n",
       "4    14\n",
       "Name: pc, dtype: int64"
      ]
     },
     "execution_count": 200,
     "metadata": {},
     "output_type": "execute_result"
    }
   ],
   "source": [
    "data['pc'].head()"
   ]
  },
  {
   "cell_type": "markdown",
   "metadata": {},
   "source": [
    "# EDA\n"
   ]
  },
  {
   "cell_type": "markdown",
   "metadata": {},
   "source": [
    "RAM"
   ]
  },
  {
   "cell_type": "code",
   "execution_count": 201,
   "metadata": {},
   "outputs": [
    {
     "name": "stderr",
     "output_type": "stream",
     "text": [
      "C:\\Users\\UBER\\anaconda3\\lib\\site-packages\\seaborn\\distributions.py:2551: FutureWarning: `distplot` is a deprecated function and will be removed in a future version. Please adapt your code to use either `displot` (a figure-level function with similar flexibility) or `histplot` (an axes-level function for histograms).\n",
      "  warnings.warn(msg, FutureWarning)\n"
     ]
    },
    {
     "data": {
      "text/plain": [
       "<matplotlib.axes._subplots.AxesSubplot at 0x2539aa1fee0>"
      ]
     },
     "execution_count": 201,
     "metadata": {},
     "output_type": "execute_result"
    },
    {
     "data": {
      "image/png": "[encoded data removed]",
      "text/plain": [
       "<Figure size 360x360 with 1 Axes>"
      ]
     },
     "metadata": {},
     "output_type": "display_data"
    }
   ],
   "source": [
    "sns.distplot(data['ram'])"
   ]
  },
  {
   "cell_type": "markdown",
   "metadata": {},
   "source": [
    "CLOCK SPEED"
   ]
  },
  {
   "cell_type": "code",
   "execution_count": 202,
   "metadata": {},
   "outputs": [
    {
     "data": {
      "text/plain": [
       "<matplotlib.axes._subplots.AxesSubplot at 0x25397488130>"
      ]
     },
     "execution_count": 202,
     "metadata": {},
     "output_type": "execute_result"
    },
    {
     "data": {
      "image/png": "[encoded data removed]",
      "text/plain": [
       "<Figure size 360x360 with 1 Axes>"
      ]
     },
     "metadata": {},
     "output_type": "display_data"
    }
   ],
   "source": [
    "data['clock_speed'].value_counts().plot(kind='density')"
   ]
  },
  {
   "cell_type": "markdown",
   "metadata": {},
   "source": [
    "SCREEN HEIGHT"
   ]
  },
  {
   "cell_type": "code",
   "execution_count": 203,
   "metadata": {},
   "outputs": [
    {
     "data": {
      "text/plain": [
       "<matplotlib.axes._subplots.AxesSubplot at 0x253974c5760>"
      ]
     },
     "execution_count": 203,
     "metadata": {},
     "output_type": "execute_result"
    },
    {
     "data": {
      "image/png": "[encoded data removed]",
      "text/plain": [
       "<Figure size 360x360 with 1 Axes>"
      ]
     },
     "metadata": {},
     "output_type": "display_data"
    }
   ],
   "source": [
    "data['sc_h'].plot(kind='density')"
   ]
  },
  {
   "cell_type": "markdown",
   "metadata": {},
   "source": [
    "SCREEN WIDTH"
   ]
  },
  {
   "cell_type": "code",
   "execution_count": 204,
   "metadata": {},
   "outputs": [
    {
     "data": {
      "text/plain": [
       "<matplotlib.axes._subplots.AxesSubplot at 0x2539751e670>"
      ]
     },
     "execution_count": 204,
     "metadata": {},
     "output_type": "execute_result"
    },
    {
     "data": {
      "image/png": "[encoded data removed]",
      "text/plain": [
       "<Figure size 360x360 with 1 Axes>"
      ]
     },
     "metadata": {},
     "output_type": "display_data"
    }
   ],
   "source": [
    "data['sc_w'].plot(kind='density')"
   ]
  },
  {
   "cell_type": "markdown",
   "metadata": {},
   "source": [
    "PHONE HEIGHT"
   ]
  },
  {
   "cell_type": "code",
   "execution_count": 205,
   "metadata": {},
   "outputs": [
    {
     "data": {
      "text/plain": [
       "<matplotlib.axes._subplots.AxesSubplot at 0x2539755ed00>"
      ]
     },
     "execution_count": 205,
     "metadata": {},
     "output_type": "execute_result"
    },
    {
     "data": {
      "image/png": "[encoded data removed]",
      "text/plain": [
       "<Figure size 360x360 with 1 Axes>"
      ]
     },
     "metadata": {},
     "output_type": "display_data"
    }
   ],
   "source": [
    "data['px_height'].plot(kind='kde')"
   ]
  },
  {
   "cell_type": "markdown",
   "metadata": {},
   "source": [
    "PHONE WIDTH"
   ]
  },
  {
   "cell_type": "code",
   "execution_count": 206,
   "metadata": {},
   "outputs": [
    {
     "data": {
      "text/plain": [
       "<matplotlib.axes._subplots.AxesSubplot at 0x253975bb9d0>"
      ]
     },
     "execution_count": 206,
     "metadata": {},
     "output_type": "execute_result"
    },
    {
     "data": {
      "image/png": "[encoded data removed]",
      "text/plain": [
       "<Figure size 360x360 with 1 Axes>"
      ]
     },
     "metadata": {},
     "output_type": "display_data"
    }
   ],
   "source": [
    "data['px_width'].plot(kind='kde')"
   ]
  },
  {
   "cell_type": "markdown",
   "metadata": {},
   "source": [
    "MOBILE WEIGHT"
   ]
  },
  {
   "cell_type": "code",
   "execution_count": 207,
   "metadata": {},
   "outputs": [
    {
     "data": {
      "text/plain": [
       "<matplotlib.axes._subplots.AxesSubplot at 0x25397570c10>"
      ]
     },
     "execution_count": 207,
     "metadata": {},
     "output_type": "execute_result"
    },
    {
     "data": {
      "image/png": "[encoded data removed]",
      "text/plain": [
       "<Figure size 360x360 with 1 Axes>"
      ]
     },
     "metadata": {},
     "output_type": "display_data"
    }
   ],
   "source": [
    "data['mobile_wt'].plot(kind='kde')"
   ]
  },
  {
   "cell_type": "markdown",
   "metadata": {},
   "source": [
    "SMARTPHONE DEPTH"
   ]
  },
  {
   "cell_type": "code",
   "execution_count": 208,
   "metadata": {},
   "outputs": [
    {
     "data": {
      "text/plain": [
       "<matplotlib.axes._subplots.AxesSubplot at 0x2539912c640>"
      ]
     },
     "execution_count": 208,
     "metadata": {},
     "output_type": "execute_result"
    },
    {
     "data": {
      "image/png": "[encoded data removed]",
      "text/plain": [
       "<Figure size 360x360 with 1 Axes>"
      ]
     },
     "metadata": {},
     "output_type": "display_data"
    }
   ],
   "source": [
    "data['m_dep'].value_counts().plot(kind='kde')"
   ]
  },
  {
   "cell_type": "markdown",
   "metadata": {},
   "source": [
    "INTERNAL MEMORY"
   ]
  },
  {
   "cell_type": "code",
   "execution_count": 209,
   "metadata": {},
   "outputs": [
    {
     "data": {
      "text/plain": [
       "<matplotlib.axes._subplots.AxesSubplot at 0x2539912c580>"
      ]
     },
     "execution_count": 209,
     "metadata": {},
     "output_type": "execute_result"
    },
    {
     "data": {
      "image/png": "[encoded data removed]",
      "text/plain": [
       "<Figure size 360x360 with 1 Axes>"
      ]
     },
     "metadata": {},
     "output_type": "display_data"
    }
   ],
   "source": [
    "data['int_memory'].value_counts().plot(kind='density')"
   ]
  },
  {
   "cell_type": "markdown",
   "metadata": {},
   "source": [
    "CLOCK SPEED"
   ]
  },
  {
   "cell_type": "code",
   "execution_count": 210,
   "metadata": {},
   "outputs": [
    {
     "data": {
      "text/plain": [
       "<matplotlib.axes._subplots.AxesSubplot at 0x253991d9d00>"
      ]
     },
     "execution_count": 210,
     "metadata": {},
     "output_type": "execute_result"
    },
    {
     "data": {
      "image/png": "[encoded data removed]",
      "text/plain": [
       "<Figure size 360x360 with 1 Axes>"
      ]
     },
     "metadata": {},
     "output_type": "display_data"
    }
   ],
   "source": [
    "sns.set(rc={'figure.figsize':(5,5)})\n",
    "sns.kdeplot(data['clock_speed'],shade=True)"
   ]
  },
  {
   "cell_type": "markdown",
   "metadata": {},
   "source": [
    "BATTERY POWER"
   ]
  },
  {
   "cell_type": "code",
   "execution_count": 211,
   "metadata": {},
   "outputs": [
    {
     "name": "stderr",
     "output_type": "stream",
     "text": [
      "C:\\Users\\UBER\\anaconda3\\lib\\site-packages\\seaborn\\distributions.py:2551: FutureWarning: `distplot` is a deprecated function and will be removed in a future version. Please adapt your code to use either `displot` (a figure-level function with similar flexibility) or `histplot` (an axes-level function for histograms).\n",
      "  warnings.warn(msg, FutureWarning)\n"
     ]
    },
    {
     "data": {
      "text/plain": [
       "<matplotlib.axes._subplots.AxesSubplot at 0x253991e3e80>"
      ]
     },
     "execution_count": 211,
     "metadata": {},
     "output_type": "execute_result"
    },
    {
     "data": {
      "image/png": "[encoded data removed]",
      "text/plain": [
       "<Figure size 360x360 with 1 Axes>"
      ]
     },
     "metadata": {},
     "output_type": "display_data"
    }
   ],
   "source": [
    "sns.distplot(data['battery_power'],kde=False,color='black',bins=10)"
   ]
  },
  {
   "cell_type": "markdown",
   "metadata": {},
   "source": [
    "BLUETOOTH"
   ]
  },
  {
   "cell_type": "code",
   "execution_count": 212,
   "metadata": {},
   "outputs": [
    {
     "data": {
      "text/plain": [
       "<matplotlib.axes._subplots.AxesSubplot at 0x25399241580>"
      ]
     },
     "execution_count": 212,
     "metadata": {},
     "output_type": "execute_result"
    },
    {
     "data": {
      "image/png": "[encoded data removed]",
      "text/plain": [
       "<Figure size 360x360 with 1 Axes>"
      ]
     },
     "metadata": {},
     "output_type": "display_data"
    }
   ],
   "source": [
    "data['blue'].value_counts().plot(kind='bar')"
   ]
  },
  {
   "cell_type": "markdown",
   "metadata": {},
   "source": [
    "Dual Sim"
   ]
  },
  {
   "cell_type": "code",
   "execution_count": 213,
   "metadata": {},
   "outputs": [
    {
     "data": {
      "text/plain": [
       "1    1536\n",
       "0    1464\n",
       "Name: dual_sim, dtype: int64"
      ]
     },
     "execution_count": 213,
     "metadata": {},
     "output_type": "execute_result"
    }
   ],
   "source": [
    "data['dual_sim'].value_counts()"
   ]
  },
  {
   "cell_type": "code",
   "execution_count": 214,
   "metadata": {},
   "outputs": [
    {
     "data": {
      "text/plain": [
       "<matplotlib.axes._subplots.AxesSubplot at 0x2539b00c4c0>"
      ]
     },
     "execution_count": 214,
     "metadata": {},
     "output_type": "execute_result"
    },
    {
     "data": {
      "image/png": "[encoded data removed]",
      "text/plain": [
       "<Figure size 360x360 with 1 Axes>"
      ]
     },
     "metadata": {},
     "output_type": "display_data"
    }
   ],
   "source": [
    "data['dual_sim'].value_counts().plot(kind='bar')"
   ]
  },
  {
   "cell_type": "markdown",
   "metadata": {},
   "source": [
    "4G"
   ]
  },
  {
   "cell_type": "code",
   "execution_count": 215,
   "metadata": {},
   "outputs": [
    {
     "data": {
      "text/plain": [
       "1    1530\n",
       "0    1470\n",
       "Name: four_g, dtype: int64"
      ]
     },
     "execution_count": 215,
     "metadata": {},
     "output_type": "execute_result"
    }
   ],
   "source": [
    "data['four_g'].value_counts()"
   ]
  },
  {
   "cell_type": "code",
   "execution_count": 216,
   "metadata": {},
   "outputs": [
    {
     "data": {
      "text/plain": [
       "<matplotlib.axes._subplots.AxesSubplot at 0x2539b00c100>"
      ]
     },
     "execution_count": 216,
     "metadata": {},
     "output_type": "execute_result"
    },
    {
     "data": {
      "image/png": "[encoded data removed]",
      "text/plain": [
       "<Figure size 360x360 with 1 Axes>"
      ]
     },
     "metadata": {},
     "output_type": "display_data"
    }
   ],
   "source": [
    "data['four_g'].value_counts().plot(kind='bar')"
   ]
  },
  {
   "cell_type": "markdown",
   "metadata": {},
   "source": [
    "No: of cores"
   ]
  },
  {
   "cell_type": "code",
   "execution_count": 217,
   "metadata": {},
   "outputs": [
    {
     "data": {
      "text/plain": [
       "4    416\n",
       "2    381\n",
       "1    380\n",
       "8    377\n",
       "5    376\n",
       "3    373\n",
       "7    366\n",
       "6    331\n",
       "Name: n_cores, dtype: int64"
      ]
     },
     "execution_count": 217,
     "metadata": {},
     "output_type": "execute_result"
    }
   ],
   "source": [
    "data['n_cores'].value_counts()"
   ]
  },
  {
   "cell_type": "code",
   "execution_count": 218,
   "metadata": {},
   "outputs": [
    {
     "data": {
      "text/plain": [
       "<matplotlib.axes._subplots.AxesSubplot at 0x2539b09a580>"
      ]
     },
     "execution_count": 218,
     "metadata": {},
     "output_type": "execute_result"
    },
    {
     "data": {
      "image/png": "[encoded data removed]",
      "text/plain": [
       "<Figure size 360x360 with 1 Axes>"
      ]
     },
     "metadata": {},
     "output_type": "display_data"
    }
   ],
   "source": [
    "data['n_cores'].value_counts().plot(kind='pie')"
   ]
  },
  {
   "cell_type": "markdown",
   "metadata": {},
   "source": [
    "3G"
   ]
  },
  {
   "cell_type": "code",
   "execution_count": 219,
   "metadata": {},
   "outputs": [
    {
     "data": {
      "text/plain": [
       "1    2279\n",
       "0     721\n",
       "Name: three_g, dtype: int64"
      ]
     },
     "execution_count": 219,
     "metadata": {},
     "output_type": "execute_result"
    }
   ],
   "source": [
    "data['three_g'].value_counts()"
   ]
  },
  {
   "cell_type": "code",
   "execution_count": 220,
   "metadata": {},
   "outputs": [
    {
     "data": {
      "text/plain": [
       "<matplotlib.axes._subplots.AxesSubplot at 0x2539b1083a0>"
      ]
     },
     "execution_count": 220,
     "metadata": {},
     "output_type": "execute_result"
    },
    {
     "data": {
      "image/png": "[encoded data removed]",
      "text/plain": [
       "<Figure size 360x360 with 1 Axes>"
      ]
     },
     "metadata": {},
     "output_type": "display_data"
    }
   ],
   "source": [
    "data['three_g'].value_counts().plot(kind='bar')"
   ]
  },
  {
   "cell_type": "markdown",
   "metadata": {},
   "source": [
    "Touch Screen"
   ]
  },
  {
   "cell_type": "code",
   "execution_count": 221,
   "metadata": {},
   "outputs": [
    {
     "data": {
      "text/plain": [
       "1    1506\n",
       "0    1494\n",
       "Name: touch_screen, dtype: int64"
      ]
     },
     "execution_count": 221,
     "metadata": {},
     "output_type": "execute_result"
    }
   ],
   "source": [
    "data['touch_screen'].value_counts()"
   ]
  },
  {
   "cell_type": "code",
   "execution_count": 222,
   "metadata": {},
   "outputs": [
    {
     "data": {
      "text/plain": [
       "<matplotlib.axes._subplots.AxesSubplot at 0x2539b1593a0>"
      ]
     },
     "execution_count": 222,
     "metadata": {},
     "output_type": "execute_result"
    },
    {
     "data": {
      "image/png": "[encoded data removed]",
      "text/plain": [
       "<Figure size 360x360 with 1 Axes>"
      ]
     },
     "metadata": {},
     "output_type": "display_data"
    }
   ],
   "source": [
    "data['touch_screen'].value_counts().plot(kind='bar')"
   ]
  },
  {
   "cell_type": "markdown",
   "metadata": {},
   "source": [
    "Wifi"
   ]
  },
  {
   "cell_type": "code",
   "execution_count": 223,
   "metadata": {},
   "outputs": [
    {
     "data": {
      "text/plain": [
       "1    1521\n",
       "0    1479\n",
       "Name: wifi, dtype: int64"
      ]
     },
     "execution_count": 223,
     "metadata": {},
     "output_type": "execute_result"
    }
   ],
   "source": [
    "data['wifi'].value_counts()"
   ]
  },
  {
   "cell_type": "code",
   "execution_count": 224,
   "metadata": {},
   "outputs": [
    {
     "name": "stderr",
     "output_type": "stream",
     "text": [
      "C:\\Users\\UBER\\anaconda3\\lib\\site-packages\\seaborn\\_decorators.py:36: FutureWarning: Pass the following variable as a keyword arg: x. From version 0.12, the only valid positional argument will be `data`, and passing other arguments without an explicit keyword will result in an error or misinterpretation.\n",
      "  warnings.warn(\n"
     ]
    },
    {
     "data": {
      "text/plain": [
       "<matplotlib.axes._subplots.AxesSubplot at 0x2539b159d00>"
      ]
     },
     "execution_count": 224,
     "metadata": {},
     "output_type": "execute_result"
    },
    {
     "data": {
      "image/png": "[encoded data removed]",
      "text/plain": [
       "<Figure size 360x360 with 1 Axes>"
      ]
     },
     "metadata": {},
     "output_type": "display_data"
    }
   ],
   "source": [
    "sns.countplot(data['wifi'])"
   ]
  },
  {
   "cell_type": "markdown",
   "metadata": {},
   "source": [
    "Talktime"
   ]
  },
  {
   "cell_type": "code",
   "execution_count": 225,
   "metadata": {},
   "outputs": [
    {
     "data": {
      "text/plain": [
       "<matplotlib.axes._subplots.AxesSubplot at 0x2539b1e86d0>"
      ]
     },
     "execution_count": 225,
     "metadata": {},
     "output_type": "execute_result"
    },
    {
     "data": {
      "image/png": "[encoded data removed]",
      "text/plain": [
       "<Figure size 360x360 with 1 Axes>"
      ]
     },
     "metadata": {},
     "output_type": "display_data"
    }
   ],
   "source": [
    "data['talk_time'].value_counts().plot(kind='bar')"
   ]
  },
  {
   "cell_type": "code",
   "execution_count": 226,
   "metadata": {},
   "outputs": [],
   "source": [
    "X = data_train.drop(['price_range'],axis=1)\n",
    "y = data_train['price_range']"
   ]
  },
  {
   "cell_type": "markdown",
   "metadata": {},
   "source": [
    "Standard Scaler"
   ]
  },
  {
   "cell_type": "code",
   "execution_count": 227,
   "metadata": {},
   "outputs": [],
   "source": [
    "from sklearn.preprocessing import StandardScaler"
   ]
  },
  {
   "cell_type": "code",
   "execution_count": 228,
   "metadata": {},
   "outputs": [],
   "source": [
    "standardscaler= StandardScaler()\n",
    "X = standardscaler.fit_transform(X)"
   ]
  },
  {
   "cell_type": "code",
   "execution_count": 229,
   "metadata": {},
   "outputs": [],
   "source": [
    "X = pd.DataFrame(X)"
   ]
  },
  {
   "cell_type": "code",
   "execution_count": 230,
   "metadata": {},
   "outputs": [
    {
     "data": {
      "text/html": [
       "<div>\n",
       "<style scoped>\n",
       "    .dataframe tbody tr th:only-of-type {\n",
       "        vertical-align: middle;\n",
       "    }\n",
       "\n",
       "    .dataframe tbody tr th {\n",
       "        vertical-align: top;\n",
       "    }\n",
       "\n",
       "    .dataframe thead th {\n",
       "        text-align: right;\n",
       "    }\n",
       "</style>\n",
       "<table border=\"1\" class=\"dataframe\">\n",
       "  <thead>\n",
       "    <tr style=\"text-align: right;\">\n",
       "      <th></th>\n",
       "      <th>0</th>\n",
       "      <th>1</th>\n",
       "      <th>2</th>\n",
       "      <th>3</th>\n",
       "      <th>4</th>\n",
       "      <th>5</th>\n",
       "      <th>6</th>\n",
       "      <th>7</th>\n",
       "      <th>8</th>\n",
       "      <th>9</th>\n",
       "      <th>10</th>\n",
       "      <th>11</th>\n",
       "      <th>12</th>\n",
       "      <th>13</th>\n",
       "      <th>14</th>\n",
       "      <th>15</th>\n",
       "      <th>16</th>\n",
       "      <th>17</th>\n",
       "      <th>18</th>\n",
       "      <th>19</th>\n",
       "    </tr>\n",
       "  </thead>\n",
       "  <tbody>\n",
       "    <tr>\n",
       "      <th>count</th>\n",
       "      <td>2.000000e+03</td>\n",
       "      <td>2.000000e+03</td>\n",
       "      <td>2.000000e+03</td>\n",
       "      <td>2.000000e+03</td>\n",
       "      <td>2.000000e+03</td>\n",
       "      <td>2.000000e+03</td>\n",
       "      <td>2.000000e+03</td>\n",
       "      <td>2.000000e+03</td>\n",
       "      <td>2.000000e+03</td>\n",
       "      <td>2.000000e+03</td>\n",
       "      <td>2.000000e+03</td>\n",
       "      <td>2.000000e+03</td>\n",
       "      <td>2.000000e+03</td>\n",
       "      <td>2.000000e+03</td>\n",
       "      <td>2.000000e+03</td>\n",
       "      <td>2.000000e+03</td>\n",
       "      <td>2.000000e+03</td>\n",
       "      <td>2.000000e+03</td>\n",
       "      <td>2.000000e+03</td>\n",
       "      <td>2.000000e+03</td>\n",
       "    </tr>\n",
       "    <tr>\n",
       "      <th>mean</th>\n",
       "      <td>2.128298e-16</td>\n",
       "      <td>-1.927347e-16</td>\n",
       "      <td>-2.172151e-16</td>\n",
       "      <td>3.990142e-16</td>\n",
       "      <td>9.230117e-17</td>\n",
       "      <td>-2.048361e-16</td>\n",
       "      <td>-8.754109e-17</td>\n",
       "      <td>-1.045830e-16</td>\n",
       "      <td>1.804112e-16</td>\n",
       "      <td>-4.690692e-17</td>\n",
       "      <td>1.669775e-16</td>\n",
       "      <td>1.287304e-16</td>\n",
       "      <td>5.595524e-17</td>\n",
       "      <td>-1.582068e-16</td>\n",
       "      <td>3.719247e-17</td>\n",
       "      <td>-4.085621e-17</td>\n",
       "      <td>1.052491e-16</td>\n",
       "      <td>2.184919e-16</td>\n",
       "      <td>3.065326e-16</td>\n",
       "      <td>4.278800e-16</td>\n",
       "    </tr>\n",
       "    <tr>\n",
       "      <th>std</th>\n",
       "      <td>1.000250e+00</td>\n",
       "      <td>1.000250e+00</td>\n",
       "      <td>1.000250e+00</td>\n",
       "      <td>1.000250e+00</td>\n",
       "      <td>1.000250e+00</td>\n",
       "      <td>1.000250e+00</td>\n",
       "      <td>1.000250e+00</td>\n",
       "      <td>1.000250e+00</td>\n",
       "      <td>1.000250e+00</td>\n",
       "      <td>1.000250e+00</td>\n",
       "      <td>1.000250e+00</td>\n",
       "      <td>1.000250e+00</td>\n",
       "      <td>1.000250e+00</td>\n",
       "      <td>1.000250e+00</td>\n",
       "      <td>1.000250e+00</td>\n",
       "      <td>1.000250e+00</td>\n",
       "      <td>1.000250e+00</td>\n",
       "      <td>1.000250e+00</td>\n",
       "      <td>1.000250e+00</td>\n",
       "      <td>1.000250e+00</td>\n",
       "    </tr>\n",
       "    <tr>\n",
       "      <th>min</th>\n",
       "      <td>-1.678817e+00</td>\n",
       "      <td>-9.900495e-01</td>\n",
       "      <td>-1.253064e+00</td>\n",
       "      <td>-1.019184e+00</td>\n",
       "      <td>-9.928904e-01</td>\n",
       "      <td>-1.043966e+00</td>\n",
       "      <td>-1.656260e+00</td>\n",
       "      <td>-1.393304e+00</td>\n",
       "      <td>-1.702391e+00</td>\n",
       "      <td>-1.539175e+00</td>\n",
       "      <td>-1.635631e+00</td>\n",
       "      <td>-1.454027e+00</td>\n",
       "      <td>-1.739251e+00</td>\n",
       "      <td>-1.722711e+00</td>\n",
       "      <td>-1.734608e+00</td>\n",
       "      <td>-1.324131e+00</td>\n",
       "      <td>-1.649584e+00</td>\n",
       "      <td>-1.786861e+00</td>\n",
       "      <td>-1.006018e+00</td>\n",
       "      <td>-1.014099e+00</td>\n",
       "    </tr>\n",
       "    <tr>\n",
       "      <th>25%</th>\n",
       "      <td>-8.804033e-01</td>\n",
       "      <td>-9.900495e-01</td>\n",
       "      <td>-1.007906e+00</td>\n",
       "      <td>-1.019184e+00</td>\n",
       "      <td>-7.624947e-01</td>\n",
       "      <td>-1.043966e+00</td>\n",
       "      <td>-8.845346e-01</td>\n",
       "      <td>-1.046495e+00</td>\n",
       "      <td>-8.829695e-01</td>\n",
       "      <td>-6.647678e-01</td>\n",
       "      <td>-8.109291e-01</td>\n",
       "      <td>-8.167289e-01</td>\n",
       "      <td>-8.719579e-01</td>\n",
       "      <td>-8.453168e-01</td>\n",
       "      <td>-7.849833e-01</td>\n",
       "      <td>-8.649215e-01</td>\n",
       "      <td>-9.173306e-01</td>\n",
       "      <td>5.596406e-01</td>\n",
       "      <td>-1.006018e+00</td>\n",
       "      <td>-1.014099e+00</td>\n",
       "    </tr>\n",
       "    <tr>\n",
       "      <th>50%</th>\n",
       "      <td>-2.849593e-02</td>\n",
       "      <td>-9.900495e-01</td>\n",
       "      <td>-2.727384e-02</td>\n",
       "      <td>9.811771e-01</td>\n",
       "      <td>-3.017032e-01</td>\n",
       "      <td>9.578860e-01</td>\n",
       "      <td>-2.563229e-03</td>\n",
       "      <td>-6.069151e-03</td>\n",
       "      <td>2.122020e-02</td>\n",
       "      <td>-2.275644e-01</td>\n",
       "      <td>1.377252e-02</td>\n",
       "      <td>-1.828116e-01</td>\n",
       "      <td>-1.045034e-02</td>\n",
       "      <td>2.055123e-02</td>\n",
       "      <td>-7.276497e-02</td>\n",
       "      <td>-1.761069e-01</td>\n",
       "      <td>-2.013697e-03</td>\n",
       "      <td>5.596406e-01</td>\n",
       "      <td>9.940179e-01</td>\n",
       "      <td>9.860966e-01</td>\n",
       "    </tr>\n",
       "    <tr>\n",
       "      <th>75%</th>\n",
       "      <td>8.575560e-01</td>\n",
       "      <td>1.010051e+00</td>\n",
       "      <td>8.307794e-01</td>\n",
       "      <td>9.811771e-01</td>\n",
       "      <td>6.198797e-01</td>\n",
       "      <td>9.578860e-01</td>\n",
       "      <td>8.794082e-01</td>\n",
       "      <td>1.034357e+00</td>\n",
       "      <td>8.406421e-01</td>\n",
       "      <td>1.084046e+00</td>\n",
       "      <td>8.384742e-01</td>\n",
       "      <td>6.810064e-01</td>\n",
       "      <td>8.828792e-01</td>\n",
       "      <td>8.670548e-01</td>\n",
       "      <td>8.768595e-01</td>\n",
       "      <td>7.423125e-01</td>\n",
       "      <td>9.133032e-01</td>\n",
       "      <td>5.596406e-01</td>\n",
       "      <td>9.940179e-01</td>\n",
       "      <td>9.860966e-01</td>\n",
       "    </tr>\n",
       "    <tr>\n",
       "      <th>max</th>\n",
       "      <td>1.728812e+00</td>\n",
       "      <td>1.010051e+00</td>\n",
       "      <td>1.811412e+00</td>\n",
       "      <td>9.811771e-01</td>\n",
       "      <td>3.384628e+00</td>\n",
       "      <td>9.578860e-01</td>\n",
       "      <td>1.761380e+00</td>\n",
       "      <td>1.727974e+00</td>\n",
       "      <td>1.688320e+00</td>\n",
       "      <td>1.521249e+00</td>\n",
       "      <td>1.663176e+00</td>\n",
       "      <td>2.963672e+00</td>\n",
       "      <td>1.727608e+00</td>\n",
       "      <td>1.727851e+00</td>\n",
       "      <td>1.589078e+00</td>\n",
       "      <td>2.808756e+00</td>\n",
       "      <td>1.645557e+00</td>\n",
       "      <td>5.596406e-01</td>\n",
       "      <td>9.940179e-01</td>\n",
       "      <td>9.860966e-01</td>\n",
       "    </tr>\n",
       "  </tbody>\n",
       "</table>\n",
       "</div>"
      ],
      "text/plain": [
       "                 0             1             2             3             4   \\\n",
       "count  2.000000e+03  2.000000e+03  2.000000e+03  2.000000e+03  2.000000e+03   \n",
       "mean   2.128298e-16 -1.927347e-16 -2.172151e-16  3.990142e-16  9.230117e-17   \n",
       "std    1.000250e+00  1.000250e+00  1.000250e+00  1.000250e+00  1.000250e+00   \n",
       "min   -1.678817e+00 -9.900495e-01 -1.253064e+00 -1.019184e+00 -9.928904e-01   \n",
       "25%   -8.804033e-01 -9.900495e-01 -1.007906e+00 -1.019184e+00 -7.624947e-01   \n",
       "50%   -2.849593e-02 -9.900495e-01 -2.727384e-02  9.811771e-01 -3.017032e-01   \n",
       "75%    8.575560e-01  1.010051e+00  8.307794e-01  9.811771e-01  6.198797e-01   \n",
       "max    1.728812e+00  1.010051e+00  1.811412e+00  9.811771e-01  3.384628e+00   \n",
       "\n",
       "                 5             6             7             8             9   \\\n",
       "count  2.000000e+03  2.000000e+03  2.000000e+03  2.000000e+03  2.000000e+03   \n",
       "mean  -2.048361e-16 -8.754109e-17 -1.045830e-16  1.804112e-16 -4.690692e-17   \n",
       "std    1.000250e+00  1.000250e+00  1.000250e+00  1.000250e+00  1.000250e+00   \n",
       "min   -1.043966e+00 -1.656260e+00 -1.393304e+00 -1.702391e+00 -1.539175e+00   \n",
       "25%   -1.043966e+00 -8.845346e-01 -1.046495e+00 -8.829695e-01 -6.647678e-01   \n",
       "50%    9.578860e-01 -2.563229e-03 -6.069151e-03  2.122020e-02 -2.275644e-01   \n",
       "75%    9.578860e-01  8.794082e-01  1.034357e+00  8.406421e-01  1.084046e+00   \n",
       "max    9.578860e-01  1.761380e+00  1.727974e+00  1.688320e+00  1.521249e+00   \n",
       "\n",
       "                 10            11            12            13            14  \\\n",
       "count  2.000000e+03  2.000000e+03  2.000000e+03  2.000000e+03  2.000000e+03   \n",
       "mean   1.669775e-16  1.287304e-16  5.595524e-17 -1.582068e-16  3.719247e-17   \n",
       "std    1.000250e+00  1.000250e+00  1.000250e+00  1.000250e+00  1.000250e+00   \n",
       "min   -1.635631e+00 -1.454027e+00 -1.739251e+00 -1.722711e+00 -1.734608e+00   \n",
       "25%   -8.109291e-01 -8.167289e-01 -8.719579e-01 -8.453168e-01 -7.849833e-01   \n",
       "50%    1.377252e-02 -1.828116e-01 -1.045034e-02  2.055123e-02 -7.276497e-02   \n",
       "75%    8.384742e-01  6.810064e-01  8.828792e-01  8.670548e-01  8.768595e-01   \n",
       "max    1.663176e+00  2.963672e+00  1.727608e+00  1.727851e+00  1.589078e+00   \n",
       "\n",
       "                 15            16            17            18            19  \n",
       "count  2.000000e+03  2.000000e+03  2.000000e+03  2.000000e+03  2.000000e+03  \n",
       "mean  -4.085621e-17  1.052491e-16  2.184919e-16  3.065326e-16  4.278800e-16  \n",
       "std    1.000250e+00  1.000250e+00  1.000250e+00  1.000250e+00  1.000250e+00  \n",
       "min   -1.324131e+00 -1.649584e+00 -1.786861e+00 -1.006018e+00 -1.014099e+00  \n",
       "25%   -8.649215e-01 -9.173306e-01  5.596406e-01 -1.006018e+00 -1.014099e+00  \n",
       "50%   -1.761069e-01 -2.013697e-03  5.596406e-01  9.940179e-01  9.860966e-01  \n",
       "75%    7.423125e-01  9.133032e-01  5.596406e-01  9.940179e-01  9.860966e-01  \n",
       "max    2.808756e+00  1.645557e+00  5.596406e-01  9.940179e-01  9.860966e-01  "
      ]
     },
     "execution_count": 230,
     "metadata": {},
     "output_type": "execute_result"
    }
   ],
   "source": [
    "X.describe()"
   ]
  },
  {
   "cell_type": "code",
   "execution_count": 231,
   "metadata": {},
   "outputs": [],
   "source": [
    "from sklearn.model_selection import train_test_split"
   ]
  },
  {
   "cell_type": "code",
   "execution_count": 232,
   "metadata": {},
   "outputs": [],
   "source": [
    "from sklearn.metrics import confusion_matrix,accuracy_score,precision_score,recall_score,f1_score,classification_report"
   ]
  },
  {
   "cell_type": "code",
   "execution_count": 233,
   "metadata": {},
   "outputs": [],
   "source": [
    "X_train,X_test,y_train,y_test = train_test_split(X,y,random_state=42,test_size=0.2)"
   ]
  },
  {
   "cell_type": "code",
   "execution_count": 234,
   "metadata": {},
   "outputs": [],
   "source": [
    "from sklearn.linear_model import LogisticRegression\n",
    "lr = LogisticRegression()\n",
    "model = lr.fit(X_train,y_train)\n",
    "predictions = model.predict(X_test)"
   ]
  },
  {
   "cell_type": "code",
   "execution_count": 235,
   "metadata": {},
   "outputs": [
    {
     "name": "stdout",
     "output_type": "stream",
     "text": [
      "              precision    recall  f1-score   support\n",
      "\n",
      "           0       1.00      0.97      0.99       105\n",
      "           1       0.95      1.00      0.97        91\n",
      "           2       0.99      0.95      0.97        92\n",
      "           3       0.97      0.99      0.98       112\n",
      "\n",
      "    accuracy                           0.98       400\n",
      "   macro avg       0.98      0.98      0.98       400\n",
      "weighted avg       0.98      0.98      0.98       400\n",
      "\n"
     ]
    }
   ],
   "source": [
    "print(classification_report(y_test,predictions))"
   ]
  },
  {
   "cell_type": "code",
   "execution_count": 236,
   "metadata": {},
   "outputs": [],
   "source": [
    "from sklearn.neighbors import KNeighborsClassifier"
   ]
  },
  {
   "cell_type": "code",
   "execution_count": 237,
   "metadata": {},
   "outputs": [],
   "source": [
    "acc_values = []\n",
    "neighbors = np.arange(3,25)\n",
    "for k in neighbors:\n",
    "    classifier = KNeighborsClassifier(n_neighbors=k,metric='minkowski')\n",
    "    classifier.fit(X_train,y_train)\n",
    "    y_pred = classifier.predict(X_test)\n",
    "    acc = accuracy_score(y_test,y_pred)\n",
    "    acc_values.append(acc)\n",
    "    acc_values"
   ]
  },
  {
   "cell_type": "code",
   "execution_count": 238,
   "metadata": {},
   "outputs": [
    {
     "data": {
      "text/plain": [
       "Text(0, 0.5, 'accuracy')"
      ]
     },
     "execution_count": 238,
     "metadata": {},
     "output_type": "execute_result"
    },
    {
     "data": {
      "image/png": "[encoded data removed]",
      "text/plain": [
       "<Figure size 360x360 with 1 Axes>"
      ]
     },
     "metadata": {},
     "output_type": "display_data"
    }
   ],
   "source": [
    "plt.plot(neighbors,acc_values,'o-')\n",
    "plt.xlabel('K-value')\n",
    "plt.ylabel('accuracy')"
   ]
  },
  {
   "cell_type": "code",
   "execution_count": 239,
   "metadata": {},
   "outputs": [],
   "source": [
    "classifier_knn = KNeighborsClassifier(n_neighbors=6,metric='minkowski')\n",
    "classifier.fit(X_train,y_train)\n",
    "y_pred = classifier.predict(X_test)"
   ]
  },
  {
   "cell_type": "code",
   "execution_count": 240,
   "metadata": {},
   "outputs": [
    {
     "name": "stdout",
     "output_type": "stream",
     "text": [
      "              precision    recall  f1-score   support\n",
      "\n",
      "           0       0.76      0.76      0.76       105\n",
      "           1       0.48      0.52      0.50        91\n",
      "           2       0.41      0.49      0.45        92\n",
      "           3       0.76      0.59      0.66       112\n",
      "\n",
      "    accuracy                           0.59       400\n",
      "   macro avg       0.60      0.59      0.59       400\n",
      "weighted avg       0.62      0.59      0.60       400\n",
      "\n"
     ]
    }
   ],
   "source": [
    "print(classification_report(y_test,y_pred))"
   ]
  },
  {
   "cell_type": "code",
   "execution_count": 241,
   "metadata": {},
   "outputs": [],
   "source": [
    "from sklearn.ensemble import RandomForestClassifier"
   ]
  },
  {
   "cell_type": "code",
   "execution_count": 242,
   "metadata": {},
   "outputs": [],
   "source": [
    "rc = RandomForestClassifier()\n",
    "model_rc = lr.fit(X_train,y_train)\n",
    "pred_rc = model_rc.predict(X_test)"
   ]
  },
  {
   "cell_type": "code",
   "execution_count": 243,
   "metadata": {},
   "outputs": [
    {
     "name": "stdout",
     "output_type": "stream",
     "text": [
      "              precision    recall  f1-score   support\n",
      "\n",
      "           0       1.00      0.97      0.99       105\n",
      "           1       0.95      1.00      0.97        91\n",
      "           2       0.99      0.95      0.97        92\n",
      "           3       0.97      0.99      0.98       112\n",
      "\n",
      "    accuracy                           0.98       400\n",
      "   macro avg       0.98      0.98      0.98       400\n",
      "weighted avg       0.98      0.98      0.98       400\n",
      "\n"
     ]
    }
   ],
   "source": [
    "print(classification_report(y_test,pred_rc))"
   ]
  },
  {
   "cell_type": "code",
   "execution_count": 244,
   "metadata": {},
   "outputs": [],
   "source": [
    "from sklearn.naive_bayes import GaussianNB"
   ]
  },
  {
   "cell_type": "code",
   "execution_count": 245,
   "metadata": {},
   "outputs": [],
   "source": [
    "nb = GaussianNB()\n",
    "model_nb = nb.fit(X_train,y_train)\n",
    "pred_nb = model_nb.predict(X_test)"
   ]
  },
  {
   "cell_type": "code",
   "execution_count": 246,
   "metadata": {},
   "outputs": [
    {
     "name": "stdout",
     "output_type": "stream",
     "text": [
      "              precision    recall  f1-score   support\n",
      "\n",
      "           0       0.90      0.90      0.90       105\n",
      "           1       0.77      0.68      0.72        91\n",
      "           2       0.64      0.77      0.70        92\n",
      "           3       0.88      0.81      0.85       112\n",
      "\n",
      "    accuracy                           0.80       400\n",
      "   macro avg       0.80      0.79      0.79       400\n",
      "weighted avg       0.81      0.80      0.80       400\n",
      "\n"
     ]
    }
   ],
   "source": [
    "print(classification_report(y_test,pred_nb))"
   ]
  },
  {
   "cell_type": "code",
   "execution_count": 247,
   "metadata": {},
   "outputs": [],
   "source": [
    "from sklearn.svm import SVC"
   ]
  },
  {
   "cell_type": "code",
   "execution_count": 248,
   "metadata": {},
   "outputs": [],
   "source": [
    "svm_linear = SVC(kernel='linear')\n",
    "svm_linear.fit(X_train,y_train)\n",
    "y_pred = svm_linear.predict(X_test)"
   ]
  },
  {
   "cell_type": "code",
   "execution_count": 249,
   "metadata": {},
   "outputs": [
    {
     "name": "stdout",
     "output_type": "stream",
     "text": [
      "              precision    recall  f1-score   support\n",
      "\n",
      "           0       1.00      0.93      0.97       105\n",
      "           1       0.90      1.00      0.95        91\n",
      "           2       1.00      0.95      0.97        92\n",
      "           3       0.98      1.00      0.99       112\n",
      "\n",
      "    accuracy                           0.97       400\n",
      "   macro avg       0.97      0.97      0.97       400\n",
      "weighted avg       0.97      0.97      0.97       400\n",
      "\n"
     ]
    }
   ],
   "source": [
    "print(classification_report(y_test,y_pred))"
   ]
  },
  {
   "cell_type": "markdown",
   "metadata": {},
   "source": [
    "# Ranking"
   ]
  },
  {
   "cell_type": "code",
   "execution_count": 250,
   "metadata": {},
   "outputs": [
    {
     "data": {
      "text/html": [
       "<div>\n",
       "<style scoped>\n",
       "    .dataframe tbody tr th:only-of-type {\n",
       "        vertical-align: middle;\n",
       "    }\n",
       "\n",
       "    .dataframe tbody tr th {\n",
       "        vertical-align: top;\n",
       "    }\n",
       "\n",
       "    .dataframe thead th {\n",
       "        text-align: right;\n",
       "    }\n",
       "</style>\n",
       "<table border=\"1\" class=\"dataframe\">\n",
       "  <thead>\n",
       "    <tr style=\"text-align: right;\">\n",
       "      <th></th>\n",
       "      <th>battery_power</th>\n",
       "      <th>blue</th>\n",
       "      <th>clock_speed</th>\n",
       "      <th>dual_sim</th>\n",
       "      <th>fc</th>\n",
       "      <th>four_g</th>\n",
       "      <th>int_memory</th>\n",
       "      <th>m_dep</th>\n",
       "      <th>mobile_wt</th>\n",
       "      <th>n_cores</th>\n",
       "      <th>...</th>\n",
       "      <th>px_height</th>\n",
       "      <th>px_width</th>\n",
       "      <th>ram</th>\n",
       "      <th>sc_h</th>\n",
       "      <th>sc_w</th>\n",
       "      <th>talk_time</th>\n",
       "      <th>three_g</th>\n",
       "      <th>touch_screen</th>\n",
       "      <th>wifi</th>\n",
       "      <th>price_range</th>\n",
       "    </tr>\n",
       "  </thead>\n",
       "  <tbody>\n",
       "    <tr>\n",
       "      <th>0</th>\n",
       "      <td>488.5</td>\n",
       "      <td>505.5</td>\n",
       "      <td>1476.0</td>\n",
       "      <td>491.0</td>\n",
       "      <td>597.0</td>\n",
       "      <td>479.0</td>\n",
       "      <td>180.5</td>\n",
       "      <td>1198.5</td>\n",
       "      <td>1783.5</td>\n",
       "      <td>366.0</td>\n",
       "      <td>...</td>\n",
       "      <td>28.5</td>\n",
       "      <td>336.5</td>\n",
       "      <td>1238.5</td>\n",
       "      <td>541.5</td>\n",
       "      <td>1284.5</td>\n",
       "      <td>1842.0</td>\n",
       "      <td>239.0</td>\n",
       "      <td>497.5</td>\n",
       "      <td>1493.5</td>\n",
       "      <td>750.5</td>\n",
       "    </tr>\n",
       "    <tr>\n",
       "      <th>1</th>\n",
       "      <td>722.5</td>\n",
       "      <td>1505.5</td>\n",
       "      <td>207.0</td>\n",
       "      <td>1491.0</td>\n",
       "      <td>237.5</td>\n",
       "      <td>1479.0</td>\n",
       "      <td>1666.5</td>\n",
       "      <td>1391.5</td>\n",
       "      <td>932.5</td>\n",
       "      <td>612.5</td>\n",
       "      <td>...</td>\n",
       "      <td>1455.5</td>\n",
       "      <td>1984.0</td>\n",
       "      <td>1287.0</td>\n",
       "      <td>1660.0</td>\n",
       "      <td>646.0</td>\n",
       "      <td>582.5</td>\n",
       "      <td>1239.0</td>\n",
       "      <td>1497.5</td>\n",
       "      <td>493.5</td>\n",
       "      <td>1250.5</td>\n",
       "    </tr>\n",
       "    <tr>\n",
       "      <th>2</th>\n",
       "      <td>91.5</td>\n",
       "      <td>1505.5</td>\n",
       "      <td>207.0</td>\n",
       "      <td>1491.0</td>\n",
       "      <td>814.0</td>\n",
       "      <td>1479.0</td>\n",
       "      <td>1281.0</td>\n",
       "      <td>1797.0</td>\n",
       "      <td>1069.0</td>\n",
       "      <td>1132.5</td>\n",
       "      <td>...</td>\n",
       "      <td>1789.0</td>\n",
       "      <td>1614.5</td>\n",
       "      <td>1269.0</td>\n",
       "      <td>791.5</td>\n",
       "      <td>468.5</td>\n",
       "      <td>798.5</td>\n",
       "      <td>1239.0</td>\n",
       "      <td>1497.5</td>\n",
       "      <td>493.5</td>\n",
       "      <td>1250.5</td>\n",
       "    </tr>\n",
       "    <tr>\n",
       "      <th>3</th>\n",
       "      <td>171.0</td>\n",
       "      <td>1505.5</td>\n",
       "      <td>1678.5</td>\n",
       "      <td>491.0</td>\n",
       "      <td>237.5</td>\n",
       "      <td>479.0</td>\n",
       "      <td>290.5</td>\n",
       "      <td>1595.5</td>\n",
       "      <td>846.0</td>\n",
       "      <td>1370.5</td>\n",
       "      <td>...</td>\n",
       "      <td>1751.0</td>\n",
       "      <td>1714.0</td>\n",
       "      <td>1362.0</td>\n",
       "      <td>1492.0</td>\n",
       "      <td>1413.0</td>\n",
       "      <td>1005.0</td>\n",
       "      <td>1239.0</td>\n",
       "      <td>497.5</td>\n",
       "      <td>493.5</td>\n",
       "      <td>1250.5</td>\n",
       "    </tr>\n",
       "    <tr>\n",
       "      <th>4</th>\n",
       "      <td>1759.0</td>\n",
       "      <td>1505.5</td>\n",
       "      <td>807.5</td>\n",
       "      <td>491.0</td>\n",
       "      <td>1895.5</td>\n",
       "      <td>1479.0</td>\n",
       "      <td>1382.0</td>\n",
       "      <td>1198.5</td>\n",
       "      <td>1006.0</td>\n",
       "      <td>366.0</td>\n",
       "      <td>...</td>\n",
       "      <td>1739.5</td>\n",
       "      <td>947.0</td>\n",
       "      <td>626.0</td>\n",
       "      <td>421.0</td>\n",
       "      <td>468.5</td>\n",
       "      <td>1414.0</td>\n",
       "      <td>1239.0</td>\n",
       "      <td>1497.5</td>\n",
       "      <td>493.5</td>\n",
       "      <td>750.5</td>\n",
       "    </tr>\n",
       "  </tbody>\n",
       "</table>\n",
       "<p>5 rows × 21 columns</p>\n",
       "</div>"
      ],
      "text/plain": [
       "   battery_power    blue  clock_speed  dual_sim      fc  four_g  int_memory  \\\n",
       "0          488.5   505.5       1476.0     491.0   597.0   479.0       180.5   \n",
       "1          722.5  1505.5        207.0    1491.0   237.5  1479.0      1666.5   \n",
       "2           91.5  1505.5        207.0    1491.0   814.0  1479.0      1281.0   \n",
       "3          171.0  1505.5       1678.5     491.0   237.5   479.0       290.5   \n",
       "4         1759.0  1505.5        807.5     491.0  1895.5  1479.0      1382.0   \n",
       "\n",
       "    m_dep  mobile_wt  n_cores  ...  px_height  px_width     ram    sc_h  \\\n",
       "0  1198.5     1783.5    366.0  ...       28.5     336.5  1238.5   541.5   \n",
       "1  1391.5      932.5    612.5  ...     1455.5    1984.0  1287.0  1660.0   \n",
       "2  1797.0     1069.0   1132.5  ...     1789.0    1614.5  1269.0   791.5   \n",
       "3  1595.5      846.0   1370.5  ...     1751.0    1714.0  1362.0  1492.0   \n",
       "4  1198.5     1006.0    366.0  ...     1739.5     947.0   626.0   421.0   \n",
       "\n",
       "     sc_w  talk_time  three_g  touch_screen    wifi  price_range  \n",
       "0  1284.5     1842.0    239.0         497.5  1493.5        750.5  \n",
       "1   646.0      582.5   1239.0        1497.5   493.5       1250.5  \n",
       "2   468.5      798.5   1239.0        1497.5   493.5       1250.5  \n",
       "3  1413.0     1005.0   1239.0         497.5   493.5       1250.5  \n",
       "4   468.5     1414.0   1239.0        1497.5   493.5        750.5  \n",
       "\n",
       "[5 rows x 21 columns]"
      ]
     },
     "execution_count": 250,
     "metadata": {},
     "output_type": "execute_result"
    }
   ],
   "source": [
    "data_train.rank().head()"
   ]
  },
  {
   "cell_type": "code",
   "execution_count": 251,
   "metadata": {},
   "outputs": [],
   "source": [
    "data_train['rank_by_price_range'] = data_train['price_range'].rank(ascending=False)"
   ]
  },
  {
   "cell_type": "code",
   "execution_count": 252,
   "metadata": {},
   "outputs": [
    {
     "data": {
      "text/html": [
       "<div>\n",
       "<style scoped>\n",
       "    .dataframe tbody tr th:only-of-type {\n",
       "        vertical-align: middle;\n",
       "    }\n",
       "\n",
       "    .dataframe tbody tr th {\n",
       "        vertical-align: top;\n",
       "    }\n",
       "\n",
       "    .dataframe thead th {\n",
       "        text-align: right;\n",
       "    }\n",
       "</style>\n",
       "<table border=\"1\" class=\"dataframe\">\n",
       "  <thead>\n",
       "    <tr style=\"text-align: right;\">\n",
       "      <th></th>\n",
       "      <th>battery_power</th>\n",
       "      <th>blue</th>\n",
       "      <th>clock_speed</th>\n",
       "      <th>dual_sim</th>\n",
       "      <th>fc</th>\n",
       "      <th>four_g</th>\n",
       "      <th>int_memory</th>\n",
       "      <th>m_dep</th>\n",
       "      <th>mobile_wt</th>\n",
       "      <th>n_cores</th>\n",
       "      <th>...</th>\n",
       "      <th>px_width</th>\n",
       "      <th>ram</th>\n",
       "      <th>sc_h</th>\n",
       "      <th>sc_w</th>\n",
       "      <th>talk_time</th>\n",
       "      <th>three_g</th>\n",
       "      <th>touch_screen</th>\n",
       "      <th>wifi</th>\n",
       "      <th>price_range</th>\n",
       "      <th>rank_by_price_range</th>\n",
       "    </tr>\n",
       "  </thead>\n",
       "  <tbody>\n",
       "    <tr>\n",
       "      <th>0</th>\n",
       "      <td>842</td>\n",
       "      <td>0</td>\n",
       "      <td>2.2</td>\n",
       "      <td>0</td>\n",
       "      <td>1</td>\n",
       "      <td>0</td>\n",
       "      <td>7</td>\n",
       "      <td>0.6</td>\n",
       "      <td>188</td>\n",
       "      <td>2</td>\n",
       "      <td>...</td>\n",
       "      <td>756</td>\n",
       "      <td>2549</td>\n",
       "      <td>9</td>\n",
       "      <td>7</td>\n",
       "      <td>19</td>\n",
       "      <td>0</td>\n",
       "      <td>0</td>\n",
       "      <td>1</td>\n",
       "      <td>1</td>\n",
       "      <td>1250.5</td>\n",
       "    </tr>\n",
       "    <tr>\n",
       "      <th>1</th>\n",
       "      <td>1021</td>\n",
       "      <td>1</td>\n",
       "      <td>0.5</td>\n",
       "      <td>1</td>\n",
       "      <td>0</td>\n",
       "      <td>1</td>\n",
       "      <td>53</td>\n",
       "      <td>0.7</td>\n",
       "      <td>136</td>\n",
       "      <td>3</td>\n",
       "      <td>...</td>\n",
       "      <td>1988</td>\n",
       "      <td>2631</td>\n",
       "      <td>17</td>\n",
       "      <td>3</td>\n",
       "      <td>7</td>\n",
       "      <td>1</td>\n",
       "      <td>1</td>\n",
       "      <td>0</td>\n",
       "      <td>2</td>\n",
       "      <td>750.5</td>\n",
       "    </tr>\n",
       "    <tr>\n",
       "      <th>2</th>\n",
       "      <td>563</td>\n",
       "      <td>1</td>\n",
       "      <td>0.5</td>\n",
       "      <td>1</td>\n",
       "      <td>2</td>\n",
       "      <td>1</td>\n",
       "      <td>41</td>\n",
       "      <td>0.9</td>\n",
       "      <td>145</td>\n",
       "      <td>5</td>\n",
       "      <td>...</td>\n",
       "      <td>1716</td>\n",
       "      <td>2603</td>\n",
       "      <td>11</td>\n",
       "      <td>2</td>\n",
       "      <td>9</td>\n",
       "      <td>1</td>\n",
       "      <td>1</td>\n",
       "      <td>0</td>\n",
       "      <td>2</td>\n",
       "      <td>750.5</td>\n",
       "    </tr>\n",
       "    <tr>\n",
       "      <th>3</th>\n",
       "      <td>615</td>\n",
       "      <td>1</td>\n",
       "      <td>2.5</td>\n",
       "      <td>0</td>\n",
       "      <td>0</td>\n",
       "      <td>0</td>\n",
       "      <td>10</td>\n",
       "      <td>0.8</td>\n",
       "      <td>131</td>\n",
       "      <td>6</td>\n",
       "      <td>...</td>\n",
       "      <td>1786</td>\n",
       "      <td>2769</td>\n",
       "      <td>16</td>\n",
       "      <td>8</td>\n",
       "      <td>11</td>\n",
       "      <td>1</td>\n",
       "      <td>0</td>\n",
       "      <td>0</td>\n",
       "      <td>2</td>\n",
       "      <td>750.5</td>\n",
       "    </tr>\n",
       "    <tr>\n",
       "      <th>4</th>\n",
       "      <td>1821</td>\n",
       "      <td>1</td>\n",
       "      <td>1.2</td>\n",
       "      <td>0</td>\n",
       "      <td>13</td>\n",
       "      <td>1</td>\n",
       "      <td>44</td>\n",
       "      <td>0.6</td>\n",
       "      <td>141</td>\n",
       "      <td>2</td>\n",
       "      <td>...</td>\n",
       "      <td>1212</td>\n",
       "      <td>1411</td>\n",
       "      <td>8</td>\n",
       "      <td>2</td>\n",
       "      <td>15</td>\n",
       "      <td>1</td>\n",
       "      <td>1</td>\n",
       "      <td>0</td>\n",
       "      <td>1</td>\n",
       "      <td>1250.5</td>\n",
       "    </tr>\n",
       "  </tbody>\n",
       "</table>\n",
       "<p>5 rows × 22 columns</p>\n",
       "</div>"
      ],
      "text/plain": [
       "   battery_power  blue  clock_speed  dual_sim  fc  four_g  int_memory  m_dep  \\\n",
       "0            842     0          2.2         0   1       0           7    0.6   \n",
       "1           1021     1          0.5         1   0       1          53    0.7   \n",
       "2            563     1          0.5         1   2       1          41    0.9   \n",
       "3            615     1          2.5         0   0       0          10    0.8   \n",
       "4           1821     1          1.2         0  13       1          44    0.6   \n",
       "\n",
       "   mobile_wt  n_cores  ...  px_width   ram  sc_h  sc_w  talk_time  three_g  \\\n",
       "0        188        2  ...       756  2549     9     7         19        0   \n",
       "1        136        3  ...      1988  2631    17     3          7        1   \n",
       "2        145        5  ...      1716  2603    11     2          9        1   \n",
       "3        131        6  ...      1786  2769    16     8         11        1   \n",
       "4        141        2  ...      1212  1411     8     2         15        1   \n",
       "\n",
       "   touch_screen  wifi  price_range  rank_by_price_range  \n",
       "0             0     1            1               1250.5  \n",
       "1             1     0            2                750.5  \n",
       "2             1     0            2                750.5  \n",
       "3             0     0            2                750.5  \n",
       "4             1     0            1               1250.5  \n",
       "\n",
       "[5 rows x 22 columns]"
      ]
     },
     "execution_count": 252,
     "metadata": {},
     "output_type": "execute_result"
    }
   ],
   "source": [
    "data_train.head()"
   ]
  },
  {
   "cell_type": "code",
   "execution_count": 253,
   "metadata": {},
   "outputs": [
    {
     "data": {
      "text/html": [
       "<div>\n",
       "<style scoped>\n",
       "    .dataframe tbody tr th:only-of-type {\n",
       "        vertical-align: middle;\n",
       "    }\n",
       "\n",
       "    .dataframe tbody tr th {\n",
       "        vertical-align: top;\n",
       "    }\n",
       "\n",
       "    .dataframe thead th {\n",
       "        text-align: right;\n",
       "    }\n",
       "</style>\n",
       "<table border=\"1\" class=\"dataframe\">\n",
       "  <thead>\n",
       "    <tr style=\"text-align: right;\">\n",
       "      <th></th>\n",
       "      <th>battery_power</th>\n",
       "      <th>blue</th>\n",
       "      <th>clock_speed</th>\n",
       "      <th>dual_sim</th>\n",
       "      <th>fc</th>\n",
       "      <th>four_g</th>\n",
       "      <th>int_memory</th>\n",
       "      <th>m_dep</th>\n",
       "      <th>mobile_wt</th>\n",
       "      <th>n_cores</th>\n",
       "      <th>...</th>\n",
       "      <th>px_width</th>\n",
       "      <th>ram</th>\n",
       "      <th>sc_h</th>\n",
       "      <th>sc_w</th>\n",
       "      <th>talk_time</th>\n",
       "      <th>three_g</th>\n",
       "      <th>touch_screen</th>\n",
       "      <th>wifi</th>\n",
       "      <th>price_range</th>\n",
       "      <th>rank_by_price_range</th>\n",
       "    </tr>\n",
       "  </thead>\n",
       "  <tbody>\n",
       "    <tr>\n",
       "      <th>1758</th>\n",
       "      <td>581</td>\n",
       "      <td>0</td>\n",
       "      <td>0.6</td>\n",
       "      <td>0</td>\n",
       "      <td>5</td>\n",
       "      <td>1</td>\n",
       "      <td>56</td>\n",
       "      <td>0.2</td>\n",
       "      <td>180</td>\n",
       "      <td>2</td>\n",
       "      <td>...</td>\n",
       "      <td>565</td>\n",
       "      <td>354</td>\n",
       "      <td>10</td>\n",
       "      <td>4</td>\n",
       "      <td>13</td>\n",
       "      <td>1</td>\n",
       "      <td>1</td>\n",
       "      <td>1</td>\n",
       "      <td>0</td>\n",
       "      <td>1750.5</td>\n",
       "    </tr>\n",
       "    <tr>\n",
       "      <th>922</th>\n",
       "      <td>874</td>\n",
       "      <td>0</td>\n",
       "      <td>1.3</td>\n",
       "      <td>0</td>\n",
       "      <td>5</td>\n",
       "      <td>0</td>\n",
       "      <td>8</td>\n",
       "      <td>0.5</td>\n",
       "      <td>185</td>\n",
       "      <td>1</td>\n",
       "      <td>...</td>\n",
       "      <td>1248</td>\n",
       "      <td>582</td>\n",
       "      <td>6</td>\n",
       "      <td>4</td>\n",
       "      <td>15</td>\n",
       "      <td>0</td>\n",
       "      <td>0</td>\n",
       "      <td>0</td>\n",
       "      <td>0</td>\n",
       "      <td>1750.5</td>\n",
       "    </tr>\n",
       "    <tr>\n",
       "      <th>1376</th>\n",
       "      <td>539</td>\n",
       "      <td>0</td>\n",
       "      <td>2.0</td>\n",
       "      <td>1</td>\n",
       "      <td>1</td>\n",
       "      <td>0</td>\n",
       "      <td>24</td>\n",
       "      <td>0.5</td>\n",
       "      <td>86</td>\n",
       "      <td>4</td>\n",
       "      <td>...</td>\n",
       "      <td>967</td>\n",
       "      <td>1326</td>\n",
       "      <td>7</td>\n",
       "      <td>4</td>\n",
       "      <td>3</td>\n",
       "      <td>1</td>\n",
       "      <td>1</td>\n",
       "      <td>0</td>\n",
       "      <td>0</td>\n",
       "      <td>1750.5</td>\n",
       "    </tr>\n",
       "    <tr>\n",
       "      <th>1700</th>\n",
       "      <td>742</td>\n",
       "      <td>1</td>\n",
       "      <td>0.5</td>\n",
       "      <td>0</td>\n",
       "      <td>0</td>\n",
       "      <td>1</td>\n",
       "      <td>36</td>\n",
       "      <td>0.7</td>\n",
       "      <td>139</td>\n",
       "      <td>3</td>\n",
       "      <td>...</td>\n",
       "      <td>1288</td>\n",
       "      <td>292</td>\n",
       "      <td>8</td>\n",
       "      <td>0</td>\n",
       "      <td>6</td>\n",
       "      <td>1</td>\n",
       "      <td>1</td>\n",
       "      <td>1</td>\n",
       "      <td>0</td>\n",
       "      <td>1750.5</td>\n",
       "    </tr>\n",
       "    <tr>\n",
       "      <th>901</th>\n",
       "      <td>783</td>\n",
       "      <td>1</td>\n",
       "      <td>1.7</td>\n",
       "      <td>1</td>\n",
       "      <td>9</td>\n",
       "      <td>1</td>\n",
       "      <td>27</td>\n",
       "      <td>0.3</td>\n",
       "      <td>150</td>\n",
       "      <td>6</td>\n",
       "      <td>...</td>\n",
       "      <td>1263</td>\n",
       "      <td>1185</td>\n",
       "      <td>15</td>\n",
       "      <td>4</td>\n",
       "      <td>6</td>\n",
       "      <td>1</td>\n",
       "      <td>1</td>\n",
       "      <td>1</td>\n",
       "      <td>0</td>\n",
       "      <td>1750.5</td>\n",
       "    </tr>\n",
       "  </tbody>\n",
       "</table>\n",
       "<p>5 rows × 22 columns</p>\n",
       "</div>"
      ],
      "text/plain": [
       "      battery_power  blue  clock_speed  dual_sim  fc  four_g  int_memory  \\\n",
       "1758            581     0          0.6         0   5       1          56   \n",
       "922             874     0          1.3         0   5       0           8   \n",
       "1376            539     0          2.0         1   1       0          24   \n",
       "1700            742     1          0.5         0   0       1          36   \n",
       "901             783     1          1.7         1   9       1          27   \n",
       "\n",
       "      m_dep  mobile_wt  n_cores  ...  px_width   ram  sc_h  sc_w  talk_time  \\\n",
       "1758    0.2        180        2  ...       565   354    10     4         13   \n",
       "922     0.5        185        1  ...      1248   582     6     4         15   \n",
       "1376    0.5         86        4  ...       967  1326     7     4          3   \n",
       "1700    0.7        139        3  ...      1288   292     8     0          6   \n",
       "901     0.3        150        6  ...      1263  1185    15     4          6   \n",
       "\n",
       "      three_g  touch_screen  wifi  price_range  rank_by_price_range  \n",
       "1758        1             1     1            0               1750.5  \n",
       "922         0             0     0            0               1750.5  \n",
       "1376        1             1     0            0               1750.5  \n",
       "1700        1             1     1            0               1750.5  \n",
       "901         1             1     1            0               1750.5  \n",
       "\n",
       "[5 rows x 22 columns]"
      ]
     },
     "execution_count": 253,
     "metadata": {},
     "output_type": "execute_result"
    }
   ],
   "source": [
    "data_train.sort_values('rank_by_price_range',ascending=False).head()"
   ]
  },
  {
   "cell_type": "code",
   "execution_count": 254,
   "metadata": {},
   "outputs": [],
   "source": [
    "data_train['battery_power_rank'] = data_train['battery_power'].rank(ascending=False)"
   ]
  },
  {
   "cell_type": "code",
   "execution_count": 255,
   "metadata": {},
   "outputs": [
    {
     "data": {
      "text/html": [
       "<div>\n",
       "<style scoped>\n",
       "    .dataframe tbody tr th:only-of-type {\n",
       "        vertical-align: middle;\n",
       "    }\n",
       "\n",
       "    .dataframe tbody tr th {\n",
       "        vertical-align: top;\n",
       "    }\n",
       "\n",
       "    .dataframe thead th {\n",
       "        text-align: right;\n",
       "    }\n",
       "</style>\n",
       "<table border=\"1\" class=\"dataframe\">\n",
       "  <thead>\n",
       "    <tr style=\"text-align: right;\">\n",
       "      <th></th>\n",
       "      <th>battery_power</th>\n",
       "      <th>blue</th>\n",
       "      <th>clock_speed</th>\n",
       "      <th>dual_sim</th>\n",
       "      <th>fc</th>\n",
       "      <th>four_g</th>\n",
       "      <th>int_memory</th>\n",
       "      <th>m_dep</th>\n",
       "      <th>mobile_wt</th>\n",
       "      <th>n_cores</th>\n",
       "      <th>...</th>\n",
       "      <th>ram</th>\n",
       "      <th>sc_h</th>\n",
       "      <th>sc_w</th>\n",
       "      <th>talk_time</th>\n",
       "      <th>three_g</th>\n",
       "      <th>touch_screen</th>\n",
       "      <th>wifi</th>\n",
       "      <th>price_range</th>\n",
       "      <th>rank_by_price_range</th>\n",
       "      <th>battery_power_rank</th>\n",
       "    </tr>\n",
       "  </thead>\n",
       "  <tbody>\n",
       "    <tr>\n",
       "      <th>0</th>\n",
       "      <td>842</td>\n",
       "      <td>0</td>\n",
       "      <td>2.2</td>\n",
       "      <td>0</td>\n",
       "      <td>1</td>\n",
       "      <td>0</td>\n",
       "      <td>7</td>\n",
       "      <td>0.6</td>\n",
       "      <td>188</td>\n",
       "      <td>2</td>\n",
       "      <td>...</td>\n",
       "      <td>2549</td>\n",
       "      <td>9</td>\n",
       "      <td>7</td>\n",
       "      <td>19</td>\n",
       "      <td>0</td>\n",
       "      <td>0</td>\n",
       "      <td>1</td>\n",
       "      <td>1</td>\n",
       "      <td>1250.5</td>\n",
       "      <td>1512.5</td>\n",
       "    </tr>\n",
       "    <tr>\n",
       "      <th>1</th>\n",
       "      <td>1021</td>\n",
       "      <td>1</td>\n",
       "      <td>0.5</td>\n",
       "      <td>1</td>\n",
       "      <td>0</td>\n",
       "      <td>1</td>\n",
       "      <td>53</td>\n",
       "      <td>0.7</td>\n",
       "      <td>136</td>\n",
       "      <td>3</td>\n",
       "      <td>...</td>\n",
       "      <td>2631</td>\n",
       "      <td>17</td>\n",
       "      <td>3</td>\n",
       "      <td>7</td>\n",
       "      <td>1</td>\n",
       "      <td>1</td>\n",
       "      <td>0</td>\n",
       "      <td>2</td>\n",
       "      <td>750.5</td>\n",
       "      <td>1278.5</td>\n",
       "    </tr>\n",
       "    <tr>\n",
       "      <th>2</th>\n",
       "      <td>563</td>\n",
       "      <td>1</td>\n",
       "      <td>0.5</td>\n",
       "      <td>1</td>\n",
       "      <td>2</td>\n",
       "      <td>1</td>\n",
       "      <td>41</td>\n",
       "      <td>0.9</td>\n",
       "      <td>145</td>\n",
       "      <td>5</td>\n",
       "      <td>...</td>\n",
       "      <td>2603</td>\n",
       "      <td>11</td>\n",
       "      <td>2</td>\n",
       "      <td>9</td>\n",
       "      <td>1</td>\n",
       "      <td>1</td>\n",
       "      <td>0</td>\n",
       "      <td>2</td>\n",
       "      <td>750.5</td>\n",
       "      <td>1909.5</td>\n",
       "    </tr>\n",
       "    <tr>\n",
       "      <th>3</th>\n",
       "      <td>615</td>\n",
       "      <td>1</td>\n",
       "      <td>2.5</td>\n",
       "      <td>0</td>\n",
       "      <td>0</td>\n",
       "      <td>0</td>\n",
       "      <td>10</td>\n",
       "      <td>0.8</td>\n",
       "      <td>131</td>\n",
       "      <td>6</td>\n",
       "      <td>...</td>\n",
       "      <td>2769</td>\n",
       "      <td>16</td>\n",
       "      <td>8</td>\n",
       "      <td>11</td>\n",
       "      <td>1</td>\n",
       "      <td>0</td>\n",
       "      <td>0</td>\n",
       "      <td>2</td>\n",
       "      <td>750.5</td>\n",
       "      <td>1830.0</td>\n",
       "    </tr>\n",
       "    <tr>\n",
       "      <th>4</th>\n",
       "      <td>1821</td>\n",
       "      <td>1</td>\n",
       "      <td>1.2</td>\n",
       "      <td>0</td>\n",
       "      <td>13</td>\n",
       "      <td>1</td>\n",
       "      <td>44</td>\n",
       "      <td>0.6</td>\n",
       "      <td>141</td>\n",
       "      <td>2</td>\n",
       "      <td>...</td>\n",
       "      <td>1411</td>\n",
       "      <td>8</td>\n",
       "      <td>2</td>\n",
       "      <td>15</td>\n",
       "      <td>1</td>\n",
       "      <td>1</td>\n",
       "      <td>0</td>\n",
       "      <td>1</td>\n",
       "      <td>1250.5</td>\n",
       "      <td>242.0</td>\n",
       "    </tr>\n",
       "  </tbody>\n",
       "</table>\n",
       "<p>5 rows × 23 columns</p>\n",
       "</div>"
      ],
      "text/plain": [
       "   battery_power  blue  clock_speed  dual_sim  fc  four_g  int_memory  m_dep  \\\n",
       "0            842     0          2.2         0   1       0           7    0.6   \n",
       "1           1021     1          0.5         1   0       1          53    0.7   \n",
       "2            563     1          0.5         1   2       1          41    0.9   \n",
       "3            615     1          2.5         0   0       0          10    0.8   \n",
       "4           1821     1          1.2         0  13       1          44    0.6   \n",
       "\n",
       "   mobile_wt  n_cores  ...   ram  sc_h  sc_w  talk_time  three_g  \\\n",
       "0        188        2  ...  2549     9     7         19        0   \n",
       "1        136        3  ...  2631    17     3          7        1   \n",
       "2        145        5  ...  2603    11     2          9        1   \n",
       "3        131        6  ...  2769    16     8         11        1   \n",
       "4        141        2  ...  1411     8     2         15        1   \n",
       "\n",
       "   touch_screen  wifi  price_range  rank_by_price_range  battery_power_rank  \n",
       "0             0     1            1               1250.5              1512.5  \n",
       "1             1     0            2                750.5              1278.5  \n",
       "2             1     0            2                750.5              1909.5  \n",
       "3             0     0            2                750.5              1830.0  \n",
       "4             1     0            1               1250.5               242.0  \n",
       "\n",
       "[5 rows x 23 columns]"
      ]
     },
     "execution_count": 255,
     "metadata": {},
     "output_type": "execute_result"
    }
   ],
   "source": [
    "data_train.head()"
   ]
  },
  {
   "cell_type": "code",
   "execution_count": 256,
   "metadata": {},
   "outputs": [
    {
     "data": {
      "text/html": [
       "<div>\n",
       "<style scoped>\n",
       "    .dataframe tbody tr th:only-of-type {\n",
       "        vertical-align: middle;\n",
       "    }\n",
       "\n",
       "    .dataframe tbody tr th {\n",
       "        vertical-align: top;\n",
       "    }\n",
       "\n",
       "    .dataframe thead th {\n",
       "        text-align: right;\n",
       "    }\n",
       "</style>\n",
       "<table border=\"1\" class=\"dataframe\">\n",
       "  <thead>\n",
       "    <tr style=\"text-align: right;\">\n",
       "      <th></th>\n",
       "      <th>battery_power</th>\n",
       "      <th>blue</th>\n",
       "      <th>clock_speed</th>\n",
       "      <th>dual_sim</th>\n",
       "      <th>fc</th>\n",
       "      <th>four_g</th>\n",
       "      <th>int_memory</th>\n",
       "      <th>m_dep</th>\n",
       "      <th>mobile_wt</th>\n",
       "      <th>n_cores</th>\n",
       "      <th>...</th>\n",
       "      <th>ram</th>\n",
       "      <th>sc_h</th>\n",
       "      <th>sc_w</th>\n",
       "      <th>talk_time</th>\n",
       "      <th>three_g</th>\n",
       "      <th>touch_screen</th>\n",
       "      <th>wifi</th>\n",
       "      <th>price_range</th>\n",
       "      <th>rank_by_price_range</th>\n",
       "      <th>battery_power_rank</th>\n",
       "    </tr>\n",
       "  </thead>\n",
       "  <tbody>\n",
       "    <tr>\n",
       "      <th>1115</th>\n",
       "      <td>501</td>\n",
       "      <td>1</td>\n",
       "      <td>0.5</td>\n",
       "      <td>1</td>\n",
       "      <td>14</td>\n",
       "      <td>0</td>\n",
       "      <td>22</td>\n",
       "      <td>0.5</td>\n",
       "      <td>174</td>\n",
       "      <td>6</td>\n",
       "      <td>...</td>\n",
       "      <td>3077</td>\n",
       "      <td>17</td>\n",
       "      <td>3</td>\n",
       "      <td>17</td>\n",
       "      <td>0</td>\n",
       "      <td>0</td>\n",
       "      <td>0</td>\n",
       "      <td>2</td>\n",
       "      <td>750.5</td>\n",
       "      <td>1999.5</td>\n",
       "    </tr>\n",
       "    <tr>\n",
       "      <th>625</th>\n",
       "      <td>501</td>\n",
       "      <td>0</td>\n",
       "      <td>2.3</td>\n",
       "      <td>0</td>\n",
       "      <td>12</td>\n",
       "      <td>1</td>\n",
       "      <td>54</td>\n",
       "      <td>0.3</td>\n",
       "      <td>131</td>\n",
       "      <td>4</td>\n",
       "      <td>...</td>\n",
       "      <td>2346</td>\n",
       "      <td>13</td>\n",
       "      <td>12</td>\n",
       "      <td>2</td>\n",
       "      <td>1</td>\n",
       "      <td>0</td>\n",
       "      <td>1</td>\n",
       "      <td>1</td>\n",
       "      <td>1250.5</td>\n",
       "      <td>1999.5</td>\n",
       "    </tr>\n",
       "    <tr>\n",
       "      <th>1618</th>\n",
       "      <td>502</td>\n",
       "      <td>0</td>\n",
       "      <td>0.8</td>\n",
       "      <td>0</td>\n",
       "      <td>7</td>\n",
       "      <td>0</td>\n",
       "      <td>52</td>\n",
       "      <td>1.0</td>\n",
       "      <td>82</td>\n",
       "      <td>6</td>\n",
       "      <td>...</td>\n",
       "      <td>2666</td>\n",
       "      <td>5</td>\n",
       "      <td>4</td>\n",
       "      <td>20</td>\n",
       "      <td>1</td>\n",
       "      <td>1</td>\n",
       "      <td>0</td>\n",
       "      <td>2</td>\n",
       "      <td>750.5</td>\n",
       "      <td>1997.5</td>\n",
       "    </tr>\n",
       "    <tr>\n",
       "      <th>1027</th>\n",
       "      <td>502</td>\n",
       "      <td>0</td>\n",
       "      <td>1.5</td>\n",
       "      <td>1</td>\n",
       "      <td>7</td>\n",
       "      <td>0</td>\n",
       "      <td>37</td>\n",
       "      <td>0.2</td>\n",
       "      <td>199</td>\n",
       "      <td>2</td>\n",
       "      <td>...</td>\n",
       "      <td>1649</td>\n",
       "      <td>6</td>\n",
       "      <td>1</td>\n",
       "      <td>14</td>\n",
       "      <td>0</td>\n",
       "      <td>1</td>\n",
       "      <td>0</td>\n",
       "      <td>1</td>\n",
       "      <td>1250.5</td>\n",
       "      <td>1997.5</td>\n",
       "    </tr>\n",
       "    <tr>\n",
       "      <th>1265</th>\n",
       "      <td>503</td>\n",
       "      <td>1</td>\n",
       "      <td>1.8</td>\n",
       "      <td>1</td>\n",
       "      <td>1</td>\n",
       "      <td>1</td>\n",
       "      <td>13</td>\n",
       "      <td>0.7</td>\n",
       "      <td>131</td>\n",
       "      <td>1</td>\n",
       "      <td>...</td>\n",
       "      <td>3117</td>\n",
       "      <td>19</td>\n",
       "      <td>6</td>\n",
       "      <td>9</td>\n",
       "      <td>1</td>\n",
       "      <td>0</td>\n",
       "      <td>1</td>\n",
       "      <td>3</td>\n",
       "      <td>250.5</td>\n",
       "      <td>1995.0</td>\n",
       "    </tr>\n",
       "  </tbody>\n",
       "</table>\n",
       "<p>5 rows × 23 columns</p>\n",
       "</div>"
      ],
      "text/plain": [
       "      battery_power  blue  clock_speed  dual_sim  fc  four_g  int_memory  \\\n",
       "1115            501     1          0.5         1  14       0          22   \n",
       "625             501     0          2.3         0  12       1          54   \n",
       "1618            502     0          0.8         0   7       0          52   \n",
       "1027            502     0          1.5         1   7       0          37   \n",
       "1265            503     1          1.8         1   1       1          13   \n",
       "\n",
       "      m_dep  mobile_wt  n_cores  ...   ram  sc_h  sc_w  talk_time  three_g  \\\n",
       "1115    0.5        174        6  ...  3077    17     3         17        0   \n",
       "625     0.3        131        4  ...  2346    13    12          2        1   \n",
       "1618    1.0         82        6  ...  2666     5     4         20        1   \n",
       "1027    0.2        199        2  ...  1649     6     1         14        0   \n",
       "1265    0.7        131        1  ...  3117    19     6          9        1   \n",
       "\n",
       "      touch_screen  wifi  price_range  rank_by_price_range  battery_power_rank  \n",
       "1115             0     0            2                750.5              1999.5  \n",
       "625              0     1            1               1250.5              1999.5  \n",
       "1618             1     0            2                750.5              1997.5  \n",
       "1027             1     0            1               1250.5              1997.5  \n",
       "1265             0     1            3                250.5              1995.0  \n",
       "\n",
       "[5 rows x 23 columns]"
      ]
     },
     "execution_count": 256,
     "metadata": {},
     "output_type": "execute_result"
    }
   ],
   "source": [
    "data_train.sort_values('battery_power_rank',ascending=False).head()"
   ]
  }
 ],
 "metadata": {
  "kernelspec": {
   "display_name": "Python 3",
   "language": "python",
   "name": "python3"
  },
  "language_info": {
   "codemirror_mode": {
    "name": "ipython",
    "version": 3
   },
   "file_extension": ".py",
   "mimetype": "text/x-python",
   "name": "python",
   "nbconvert_exporter": "python",
   "pygments_lexer": "ipython3",
   "version": "3.8.3"
  }
 },
 "nbformat": 4,
 "nbformat_minor": 4
}
